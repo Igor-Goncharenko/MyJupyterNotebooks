{
 "cells": [
  {
   "cell_type": "code",
   "execution_count": 1,
   "id": "23035f88-6ea0-4373-80f6-676749ef8009",
   "metadata": {},
   "outputs": [],
   "source": [
    "import numpy as np"
   ]
  },
  {
   "cell_type": "code",
   "execution_count": 2,
   "id": "f4a19bcc-b2cb-4b0c-854b-577c59f69c33",
   "metadata": {},
   "outputs": [
    {
     "data": {
      "text/plain": [
       "array([[0., 0., 0.],\n",
       "       [0., 0., 0.],\n",
       "       [0., 0., 0.]])"
      ]
     },
     "execution_count": 2,
     "metadata": {},
     "output_type": "execute_result"
    }
   ],
   "source": [
    "np.zeros((3, 3))"
   ]
  },
  {
   "cell_type": "code",
   "execution_count": 3,
   "id": "a3465732-89fa-4a54-a56e-90e6b31ff7d6",
   "metadata": {},
   "outputs": [
    {
     "data": {
      "text/plain": [
       "array([[1., 1., 1., 1.],\n",
       "       [1., 1., 1., 1.],\n",
       "       [1., 1., 1., 1.],\n",
       "       [1., 1., 1., 1.]])"
      ]
     },
     "execution_count": 3,
     "metadata": {},
     "output_type": "execute_result"
    }
   ],
   "source": [
    "np.ones((4, 4))"
   ]
  },
  {
   "cell_type": "code",
   "execution_count": 4,
   "id": "4f28cab1-3605-4e9a-a020-e69a0e607145",
   "metadata": {},
   "outputs": [
    {
     "data": {
      "text/plain": [
       "array([[1., 0., 0.],\n",
       "       [0., 1., 0.],\n",
       "       [0., 0., 1.]])"
      ]
     },
     "execution_count": 4,
     "metadata": {},
     "output_type": "execute_result"
    }
   ],
   "source": [
    "np.identity(3)"
   ]
  },
  {
   "cell_type": "code",
   "execution_count": 5,
   "id": "0dd5dd22-e17d-4997-aede-181ffe33572b",
   "metadata": {},
   "outputs": [
    {
     "data": {
      "text/plain": [
       "array([[0.69419534, 0.13813155],\n",
       "       [0.53860843, 0.94015473]])"
      ]
     },
     "execution_count": 5,
     "metadata": {},
     "output_type": "execute_result"
    }
   ],
   "source": [
    "np.random.random((2, 2))"
   ]
  },
  {
   "cell_type": "code",
   "execution_count": 6,
   "id": "f4b17dbd-88f9-4f85-8acb-2c4d123ac0d9",
   "metadata": {},
   "outputs": [
    {
     "data": {
      "text/plain": [
       "array([0, 1, 2, 3, 4])"
      ]
     },
     "execution_count": 6,
     "metadata": {},
     "output_type": "execute_result"
    }
   ],
   "source": [
    "np.arange(5)"
   ]
  },
  {
   "cell_type": "code",
   "execution_count": 7,
   "id": "d8a39ce5-fdea-46aa-aec2-576ed7764b89",
   "metadata": {},
   "outputs": [
    {
     "data": {
      "text/plain": [
       "array([[ 0.        ,  0.52631579,  1.05263158,  1.57894737,  2.10526316],\n",
       "       [ 2.63157895,  3.15789474,  3.68421053,  4.21052632,  4.73684211],\n",
       "       [ 5.26315789,  5.78947368,  6.31578947,  6.84210526,  7.36842105],\n",
       "       [ 7.89473684,  8.42105263,  8.94736842,  9.47368421, 10.        ]])"
      ]
     },
     "execution_count": 7,
     "metadata": {},
     "output_type": "execute_result"
    }
   ],
   "source": [
    "np.linspace(0, 10, 20).reshape(4, 5)"
   ]
  },
  {
   "cell_type": "code",
   "execution_count": 8,
   "id": "7b8a4015-f39f-468e-aeca-8e44070375dd",
   "metadata": {},
   "outputs": [
    {
     "data": {
      "text/plain": [
       "array([[ 5,  8,  1, -9],\n",
       "       [ 3,  2,  7, -7]])"
      ]
     },
     "execution_count": 8,
     "metadata": {},
     "output_type": "execute_result"
    }
   ],
   "source": [
    "np.random.randint(-10, 10, size=(2, 4))"
   ]
  },
  {
   "cell_type": "code",
   "execution_count": 9,
   "id": "b206b4ca-fbba-44d3-ab18-d8ef8df4173b",
   "metadata": {},
   "outputs": [
    {
     "data": {
      "text/plain": [
       "array([[0., 1., 1., 1.],\n",
       "       [0., 1., 1., 1.],\n",
       "       [1., 0., 0., 1.]])"
      ]
     },
     "execution_count": 9,
     "metadata": {},
     "output_type": "execute_result"
    }
   ],
   "source": [
    "shape = (3, 4)\n",
    "a = np.random.randint(0, 2, size=shape)\n",
    "b = np.empty(shape)\n",
    "np.copyto(b, a)\n",
    "b"
   ]
  },
  {
   "cell_type": "code",
   "execution_count": 10,
   "id": "cb02b095-ed9d-45de-9f6d-45e232559ed5",
   "metadata": {},
   "outputs": [
    {
     "data": {
      "text/plain": [
       "array([[-3,  3,  2, -4, -5],\n",
       "       [-4, -5, -4,  1,  1],\n",
       "       [-5,  3, -2,  0,  4]])"
      ]
     },
     "execution_count": 10,
     "metadata": {},
     "output_type": "execute_result"
    }
   ],
   "source": [
    "arr = np.random.randint(-5, 5, size=(3, 5))\n",
    "arr"
   ]
  },
  {
   "cell_type": "code",
   "execution_count": 11,
   "id": "d4332a13-c4f6-4915-93a5-3e33eb5e7b28",
   "metadata": {},
   "outputs": [
    {
     "data": {
      "text/plain": [
       "-18"
      ]
     },
     "execution_count": 11,
     "metadata": {},
     "output_type": "execute_result"
    }
   ],
   "source": [
    "np.sum(arr)"
   ]
  },
  {
   "cell_type": "code",
   "execution_count": 12,
   "id": "11dfe514-910c-4013-ba1e-46c58f017684",
   "metadata": {},
   "outputs": [
    {
     "data": {
      "text/plain": [
       "-1.2"
      ]
     },
     "execution_count": 12,
     "metadata": {},
     "output_type": "execute_result"
    }
   ],
   "source": [
    "np.mean(arr)"
   ]
  },
  {
   "cell_type": "code",
   "execution_count": 13,
   "id": "ba9a6ab5-e5cb-4a06-a528-49ec64f5a5d3",
   "metadata": {},
   "outputs": [
    {
     "data": {
      "text/plain": [
       "3.208322510804257"
      ]
     },
     "execution_count": 13,
     "metadata": {},
     "output_type": "execute_result"
    }
   ],
   "source": [
    "np.std(arr)"
   ]
  },
  {
   "cell_type": "code",
   "execution_count": 14,
   "id": "694e2673-b562-4d25-9431-aaa9708060e6",
   "metadata": {},
   "outputs": [
    {
     "data": {
      "text/plain": [
       "-2.0"
      ]
     },
     "execution_count": 14,
     "metadata": {},
     "output_type": "execute_result"
    }
   ],
   "source": [
    "np.median(arr)"
   ]
  },
  {
   "cell_type": "code",
   "execution_count": 15,
   "id": "fa85a229-8572-4f4a-b3ff-5d92c2906d30",
   "metadata": {},
   "outputs": [
    {
     "data": {
      "text/plain": [
       "(4, -5)"
      ]
     },
     "execution_count": 15,
     "metadata": {},
     "output_type": "execute_result"
    }
   ],
   "source": [
    "np.max(arr), np.min(arr)"
   ]
  },
  {
   "cell_type": "code",
   "execution_count": 16,
   "id": "6461ba3a-c65c-4e12-8ede-23f00601430a",
   "metadata": {},
   "outputs": [
    {
     "data": {
      "text/plain": [
       "array([[3, 3, 8, 3, 5, 1, 7],\n",
       "       [5, 8, 3, 0, 0, 3, 0],\n",
       "       [7, 6, 6, 9, 2, 2, 4]])"
      ]
     },
     "execution_count": 16,
     "metadata": {},
     "output_type": "execute_result"
    }
   ],
   "source": [
    "shape = (3, 7)\n",
    "arr = np.random.randint(0, 10, size=shape)\n",
    "arr"
   ]
  },
  {
   "cell_type": "code",
   "execution_count": 17,
   "id": "66a4bf0e-a44e-4cb1-8e53-5ec86bc57e45",
   "metadata": {},
   "outputs": [
    {
     "data": {
      "text/plain": [
       "array([[0, 0, 0, 1, 2, 2, 3],\n",
       "       [3, 3, 3, 3, 4, 5, 5],\n",
       "       [6, 6, 7, 7, 8, 8, 9]])"
      ]
     },
     "execution_count": 17,
     "metadata": {},
     "output_type": "execute_result"
    }
   ],
   "source": [
    "# sort all items in ascending order\n",
    "sorted_arr = arr.flatten()\n",
    "sorted_arr = np.sort(sorted_arr)\n",
    "sorted_arr = sorted_arr.reshape(shape)\n",
    "sorted_arr"
   ]
  },
  {
   "cell_type": "code",
   "execution_count": 18,
   "id": "da5f4da8-013a-4181-b481-cff64f669605",
   "metadata": {},
   "outputs": [
    {
     "data": {
      "text/plain": [
       "((2, 3), 9)"
      ]
     },
     "execution_count": 18,
     "metadata": {},
     "output_type": "execute_result"
    }
   ],
   "source": [
    "# find max index\n",
    "amx = np.argmax(arr)\n",
    "mx_idx = (amx // 7, amx % 7)\n",
    "mx_idx, arr[mx_idx]"
   ]
  },
  {
   "cell_type": "code",
   "execution_count": 19,
   "id": "67335ff4-c17e-4fec-90a4-3cfd9d861d45",
   "metadata": {},
   "outputs": [
    {
     "data": {
      "text/plain": [
       "(array([[5, 1, 2, 3, 5],\n",
       "        [4, 3, 7, 7, 6],\n",
       "        [5, 8, 2, 3, 2]]),\n",
       " array([[7, 1, 6, 3],\n",
       "        [3, 6, 8, 5],\n",
       "        [7, 2, 2, 3],\n",
       "        [2, 4, 7, 6],\n",
       "        [4, 7, 2, 2]]))"
      ]
     },
     "execution_count": 19,
     "metadata": {},
     "output_type": "execute_result"
    }
   ],
   "source": [
    "shape1 = (3, 5)\n",
    "ar1 = np.random.randint(0, 10, size=shape1)\n",
    "shape2 = (5, 4)\n",
    "ar2 = np.random.randint(0, 10, size=shape2)\n",
    "ar1, ar2"
   ]
  },
  {
   "cell_type": "code",
   "execution_count": 20,
   "id": "d653eb07-6da1-4481-97f4-41b1dbc3e04b",
   "metadata": {},
   "outputs": [
    {
     "data": {
      "text/plain": [
       "array([[ 78,  62,  73,  54],\n",
       "       [124, 106, 123, 102],\n",
       "       [ 87,  83, 123,  83]])"
      ]
     },
     "execution_count": 20,
     "metadata": {},
     "output_type": "execute_result"
    }
   ],
   "source": [
    "np.dot(ar1, ar2)"
   ]
  },
  {
   "cell_type": "code",
   "execution_count": 21,
   "id": "ffdeb8a2-8ded-45f6-9baf-d0ca78857649",
   "metadata": {},
   "outputs": [
    {
     "data": {
      "text/plain": [
       "(5, 3)"
      ]
     },
     "execution_count": 21,
     "metadata": {},
     "output_type": "execute_result"
    }
   ],
   "source": [
    "ar1.T.shape"
   ]
  },
  {
   "cell_type": "code",
   "execution_count": 22,
   "id": "43490514-56b9-4f3a-b02b-0759934a677b",
   "metadata": {},
   "outputs": [
    {
     "data": {
      "text/plain": [
       "(array([5, 1, 2, 3, 5, 4, 3, 7, 7, 6, 5, 8, 2, 3, 2]),\n",
       " array([7, 1, 6, 3, 3, 6, 8, 5, 7, 2, 2, 3, 2, 4, 7, 6, 4, 7, 2, 2]))"
      ]
     },
     "execution_count": 22,
     "metadata": {},
     "output_type": "execute_result"
    }
   ],
   "source": [
    "ar1.flatten(), ar2.flatten()"
   ]
  },
  {
   "cell_type": "code",
   "execution_count": 32,
   "id": "cf055b31-31dc-4f5b-a4d7-e1687c366654",
   "metadata": {},
   "outputs": [
    {
     "data": {
      "text/plain": [
       "array([[5, 4, 5, 7, 1, 6, 3],\n",
       "       [1, 3, 8, 3, 6, 8, 5],\n",
       "       [2, 7, 2, 7, 2, 2, 3],\n",
       "       [3, 7, 3, 2, 4, 7, 6],\n",
       "       [5, 6, 2, 4, 7, 2, 2]])"
      ]
     },
     "execution_count": 32,
     "metadata": {},
     "output_type": "execute_result"
    }
   ],
   "source": [
    "np.hstack((ar1.T, ar2))"
   ]
  },
  {
   "cell_type": "code",
   "execution_count": 34,
   "id": "6b4d6c26-8b65-4171-ab14-b1c59c84248f",
   "metadata": {},
   "outputs": [
    {
     "data": {
      "text/plain": [
       "array([[5, 4, 5, 7, 1, 6, 3],\n",
       "       [1, 3, 8, 3, 6, 8, 5],\n",
       "       [2, 7, 2, 7, 2, 2, 3],\n",
       "       [3, 7, 3, 2, 4, 7, 6],\n",
       "       [5, 6, 2, 4, 7, 2, 2]])"
      ]
     },
     "execution_count": 34,
     "metadata": {},
     "output_type": "execute_result"
    }
   ],
   "source": [
    "np.concatenate((ar1.T, ar2), axis=1)"
   ]
  },
  {
   "cell_type": "code",
   "execution_count": 47,
   "id": "cbcd5789-a905-4499-96c2-a598aa7089e7",
   "metadata": {},
   "outputs": [
    {
     "data": {
      "text/plain": [
       "[array([[5],\n",
       "        [4],\n",
       "        [5]]),\n",
       " array([[1, 2, 3, 5],\n",
       "        [3, 7, 7, 6],\n",
       "        [8, 2, 3, 2]])]"
      ]
     },
     "execution_count": 47,
     "metadata": {},
     "output_type": "execute_result"
    }
   ],
   "source": [
    "np.split(ar1, indices_or_sections=[1], axis=1)"
   ]
  },
  {
   "cell_type": "code",
   "execution_count": 49,
   "id": "676f328c-a152-4d7a-8f6f-d085e21fb7a8",
   "metadata": {},
   "outputs": [
    {
     "data": {
      "text/plain": [
       "array([ 1,  6, 11, 16])"
      ]
     },
     "execution_count": 49,
     "metadata": {},
     "output_type": "execute_result"
    }
   ],
   "source": [
    "arr = np.array([[1, 2, 3, 4], [5, 6, 7, 8], [9, 10, 11, 12], [13, 14, 15, 16]])\n",
    "np.diagonal(arr)"
   ]
  },
  {
   "cell_type": "code",
   "execution_count": 53,
   "id": "84c5cdab-cfe0-4909-ae3d-d5430a8a08bd",
   "metadata": {},
   "outputs": [
    {
     "data": {
      "text/plain": [
       "array([7., 3.])"
      ]
     },
     "execution_count": 53,
     "metadata": {},
     "output_type": "execute_result"
    }
   ],
   "source": [
    "\"\"\"\n",
    "4x - 2y = 22\n",
    "6x + y = 45\n",
    "\"\"\"\n",
    "a = np.array([[4, -2], [6, 1]])\n",
    "b = np.array([22, 45])\n",
    "np.linalg.solve(a, b)"
   ]
  },
  {
   "cell_type": "code",
   "execution_count": 54,
   "id": "28ea0044-b144-4741-a95a-7a2029becaf6",
   "metadata": {},
   "outputs": [
    {
     "data": {
      "text/plain": [
       "(array([[ 3, 33, 14, 22, 18, 27],\n",
       "        [17, 17,  5,  6, 24, 29],\n",
       "        [25, 23, 31, 24, 29,  5],\n",
       "        [28,  3, 24,  5, 15, 26]]),\n",
       " array([[32, 31, 15, 10, 27, 12],\n",
       "        [ 8, 24, 21, 20,  3,  4],\n",
       "        [18, 16, 15,  1, 30, 21],\n",
       "        [20, 25, 25,  1, 27,  1]]))"
      ]
     },
     "execution_count": 54,
     "metadata": {},
     "output_type": "execute_result"
    }
   ],
   "source": [
    "shape = (4, 6)\n",
    "a = np.random.randint(1, 34, size=shape)\n",
    "b = np.random.randint(1, 34, size=shape)\n",
    "a, b"
   ]
  },
  {
   "cell_type": "code",
   "execution_count": 55,
   "id": "0edb2b49-b9a2-4a7a-a7c6-ad5c38ef0765",
   "metadata": {},
   "outputs": [
    {
     "data": {
      "text/plain": [
       "array([[35, 64, 29, 32, 45, 39],\n",
       "       [25, 41, 26, 26, 27, 33],\n",
       "       [43, 39, 46, 25, 59, 26],\n",
       "       [48, 28, 49,  6, 42, 27]])"
      ]
     },
     "execution_count": 55,
     "metadata": {},
     "output_type": "execute_result"
    }
   ],
   "source": [
    "a + b"
   ]
  },
  {
   "cell_type": "code",
   "execution_count": 56,
   "id": "9da34882-de9d-4d1e-9423-7ec83f5c5d7a",
   "metadata": {},
   "outputs": [
    {
     "data": {
      "text/plain": [
       "array([[-29,   2,  -1,  12,  -9,  15],\n",
       "       [  9,  -7, -16, -14,  21,  25],\n",
       "       [  7,   7,  16,  23,  -1, -16],\n",
       "       [  8, -22,  -1,   4, -12,  25]])"
      ]
     },
     "execution_count": 56,
     "metadata": {},
     "output_type": "execute_result"
    }
   ],
   "source": [
    "a - b"
   ]
  },
  {
   "cell_type": "code",
   "execution_count": 57,
   "id": "3ed38661-a95a-4ed8-acee-f12c69ea65c3",
   "metadata": {},
   "outputs": [
    {
     "data": {
      "text/plain": [
       "array([[  96, 1023,  210,  220,  486,  324],\n",
       "       [ 136,  408,  105,  120,   72,  116],\n",
       "       [ 450,  368,  465,   24,  870,  105],\n",
       "       [ 560,   75,  600,    5,  405,   26]])"
      ]
     },
     "execution_count": 57,
     "metadata": {},
     "output_type": "execute_result"
    }
   ],
   "source": [
    "a * b"
   ]
  },
  {
   "cell_type": "code",
   "execution_count": 58,
   "id": "8556483a-ea4e-4b0c-be88-8c60d0203ab3",
   "metadata": {},
   "outputs": [
    {
     "data": {
      "text/plain": [
       "array([[ 0.09375   ,  1.06451613,  0.93333333,  2.2       ,  0.66666667,\n",
       "         2.25      ],\n",
       "       [ 2.125     ,  0.70833333,  0.23809524,  0.3       ,  8.        ,\n",
       "         7.25      ],\n",
       "       [ 1.38888889,  1.4375    ,  2.06666667, 24.        ,  0.96666667,\n",
       "         0.23809524],\n",
       "       [ 1.4       ,  0.12      ,  0.96      ,  5.        ,  0.55555556,\n",
       "        26.        ]])"
      ]
     },
     "execution_count": 58,
     "metadata": {},
     "output_type": "execute_result"
    }
   ],
   "source": [
    "a / b"
   ]
  },
  {
   "cell_type": "code",
   "execution_count": 59,
   "id": "88f5ec50-2783-4346-bdec-50931300dfad",
   "metadata": {},
   "outputs": [
    {
     "data": {
      "text/plain": [
       "array([[2359, 1712, 1921, 1770],\n",
       "       [2202,  957, 1988, 1573],\n",
       "       [3061, 1990, 2282, 2662],\n",
       "       [2116, 1049, 1913, 1671]])"
      ]
     },
     "execution_count": 59,
     "metadata": {},
     "output_type": "execute_result"
    }
   ],
   "source": [
    "a @ b.T"
   ]
  },
  {
   "cell_type": "code",
   "execution_count": 60,
   "id": "37699768-d6c0-4159-8894-f57a18525147",
   "metadata": {},
   "outputs": [
    {
     "data": {
      "text/plain": [
       "array([[False,  True,  True,  True,  True,  True],\n",
       "       [ True,  True, False, False,  True,  True],\n",
       "       [ True,  True,  True,  True,  True, False],\n",
       "       [ True, False,  True, False,  True,  True]])"
      ]
     },
     "execution_count": 60,
     "metadata": {},
     "output_type": "execute_result"
    }
   ],
   "source": [
    "a > 10"
   ]
  },
  {
   "cell_type": "code",
   "execution_count": 62,
   "id": "594c9def-7feb-44e9-bb0d-a63359c09c3e",
   "metadata": {},
   "outputs": [
    {
     "data": {
      "text/plain": [
       "18"
      ]
     },
     "execution_count": 62,
     "metadata": {},
     "output_type": "execute_result"
    }
   ],
   "source": [
    "np.sum((a > 10).astype(\"int32\"))"
   ]
  },
  {
   "cell_type": "code",
   "execution_count": 64,
   "id": "e5051b4f-d5a4-466d-a76d-84667db8bfe4",
   "metadata": {},
   "outputs": [
    {
     "data": {
      "text/plain": [
       "(array([ 3,  5,  6, 14, 15, 17, 18, 22, 23, 24, 25, 26, 27, 28, 29, 31, 33]),\n",
       " array([2, 3, 1, 1, 1, 2, 1, 1, 1, 3, 1, 1, 1, 1, 2, 1, 1], dtype=int64))"
      ]
     },
     "execution_count": 64,
     "metadata": {},
     "output_type": "execute_result"
    }
   ],
   "source": [
    "np.unique(a, return_counts=True)"
   ]
  },
  {
   "cell_type": "code",
   "execution_count": 65,
   "id": "b688cd1f-4ab1-4355-b161-33ca9105357e",
   "metadata": {},
   "outputs": [
    {
     "data": {
      "text/plain": [
       "array([[ True, False,  True, False,  True, False],\n",
       "       [False,  True,  True,  True, False, False],\n",
       "       [False, False, False, False,  True,  True],\n",
       "       [False,  True,  True, False,  True, False]])"
      ]
     },
     "execution_count": 65,
     "metadata": {},
     "output_type": "execute_result"
    }
   ],
   "source": [
    "a < b"
   ]
  },
  {
   "cell_type": "code",
   "execution_count": null,
   "id": "1c06d950-3150-4ce9-92a1-035084653883",
   "metadata": {},
   "outputs": [],
   "source": []
  },
  {
   "cell_type": "code",
   "execution_count": null,
   "id": "5bdcd73a-e6b6-428d-b7a6-d2934c6ac3fb",
   "metadata": {},
   "outputs": [],
   "source": []
  }
 ],
 "metadata": {
  "kernelspec": {
   "display_name": "Python 3 (ipykernel)",
   "language": "python",
   "name": "python3"
  },
  "language_info": {
   "codemirror_mode": {
    "name": "ipython",
    "version": 3
   },
   "file_extension": ".py",
   "mimetype": "text/x-python",
   "name": "python",
   "nbconvert_exporter": "python",
   "pygments_lexer": "ipython3",
   "version": "3.11.7"
  }
 },
 "nbformat": 4,
 "nbformat_minor": 5
}
