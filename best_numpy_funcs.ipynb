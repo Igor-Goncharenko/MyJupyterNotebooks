{
 "cells": [
  {
   "cell_type": "markdown",
   "id": "d7513c03-ade4-4aec-94cd-7c4e05972512",
   "metadata": {},
   "source": [
    "# Best Numpy Functions for Data Science (50+)\n",
    "[Original article](https://www.kaggle.com/code/abhayparashar31/best-numpy-functions-for-data-science-50)"
   ]
  },
  {
   "cell_type": "markdown",
   "id": "f5937651-1eb6-4c09-ab4c-ad96c628daa9",
   "metadata": {},
   "source": [
    "### Contents \n",
    "1. [Array](#1)\n",
    "1. [Linspace](#2)\n",
    "1. [Arange](#3)\n",
    "1. [Uniform Samples](#4)\n",
    "1. [Random.randint](#5)\n",
    "1. [Random.random](#6)\n",
    "1. [Logspace](#7)\n",
    "1. [Array of zero](#8)\n",
    "1. [Array of Ones](#9)\n",
    "1. [Array of k Random Value](#10)\n",
    "1. [Identity](#11)\n",
    "1. [Min](#12)\n",
    "1. [Max](#13)\n",
    "1. [Unique](#14)\n",
    "1. [Mean](#15)\n",
    "1. [Median](#16)\n",
    "1. [Digitize](#17)\n",
    "1. [Reshape](#18)\n",
    "1. [Expand Dimensions](#19)\n",
    "1. [Squeeze](#20)\n",
    "1. [Count Non-Zero](#21)\n",
    "1. [argwhere](#22)\n",
    "1. [argmax & argmin](#23)\n",
    "1. [Sort](#24)\n",
    "1. [Abs](#25)\n",
    "1. [Round](#26)\n",
    "1. [Clip](#27)\n",
    "1. [Where](#28)\n",
    "1. [Put](#29)\n",
    "1. [Copyto](#30)\n",
    "1. [Retrieve Common Elements](#31)\n",
    "1. [Difference](#32)\n",
    "1. [Extracts Unique Elements From Both Arrays](#33)\n",
    "1. [Union](#34)\n",
    "1. [Horizontal Split](#35)\n",
    "1. [Vertical Split](#36)\n",
    "1. [Horizontal Stacking](#37)\n",
    "1. [Vertical Stacking](#38)\n",
    "1. [allclose](#39)\n",
    "1. [Repeat](#40)\n",
    "1. [tile](#41)\n",
    "1. [Einsum](#42)\n",
    "1. [Histogram](#43)\n",
    "1. [Percentile](#44)\n",
    "1. [Standard Deviation and Variance](#45)\n",
    "1. [Show Floats With Two Decimal Values](#46)\n",
    "1. [Prints Array To Its Max](#47)\n",
    "1. [Increase The Number of Elements In a Line](#48)\n",
    "1. [Save](#49)\n",
    "1. [Load](#50)"
   ]
  },
  {
   "cell_type": "markdown",
   "id": "5b3aa14a-d3ae-47e3-81c1-18038ed092d5",
   "metadata": {},
   "source": [
    "---"
   ]
  },
  {
   "cell_type": "code",
   "execution_count": 1,
   "id": "9c5c4633-cb2d-40d9-8a14-6029f4640116",
   "metadata": {},
   "outputs": [],
   "source": [
    "# import all necessary modules\n",
    "import numpy as np\n",
    "import pandas as pd"
   ]
  },
  {
   "cell_type": "markdown",
   "id": "4aca52fe-65e9-47fd-80d1-fa8f22f2fb28",
   "metadata": {},
   "source": [
    "---\n",
    "\n",
    "### Array Creation methods"
   ]
  },
  {
   "cell_type": "markdown",
   "id": "a0e64de0-1791-41e9-8b89-f63ef7356dbb",
   "metadata": {},
   "source": [
    "#### 1. Array <a id=1></a>\n",
    "Creates array from scratch. [Official docs](https://numpy.org/doc/1.26/reference/generated/numpy.array.html)  \n",
    "```python\n",
    "array(object, dtype=None, *, copy=True, order='K', subok=False, ndmin=0, like=None)\n",
    "```\n",
    "\n",
    "**Important params:**  \n",
    "`dtype`: desired data type for the resultant array.  \n",
    "`ndim`: specify the minimum number of dimensions for the resultant array.  \n",
    "\n",
    "**See also:**  \n",
    "[`np.empty`](https://numpy.org/doc/1.26/reference/generated/numpy.empty.html) Returns a new uninitialized array.  \n",
    "[`np.ones`](https://numpy.org/doc/1.26/reference/generated/numpy.ones.html)  Returns a new array setting values to one.  \n",
    "[`np.zeros`](https://numpy.org/doc/1.26/reference/generated/numpy.zeros.html) Return a new array setting values to zero.  \n",
    "[`np.full`](https://numpy.org/doc/1.26/reference/generated/numpy.full.html) Return a new array of given shape filled with value.  \r\n",
    "\n"
   ]
  },
  {
   "cell_type": "code",
   "execution_count": 2,
   "id": "c055ee9a-6b9a-42d6-b781-f1e0ccc6324c",
   "metadata": {},
   "outputs": [
    {
     "data": {
      "text/plain": [
       "array([1, 2, 3, 4, 5])"
      ]
     },
     "execution_count": 2,
     "metadata": {},
     "output_type": "execute_result"
    }
   ],
   "source": [
    "np.array([1, 2, 3, 4, 5])"
   ]
  },
  {
   "cell_type": "code",
   "execution_count": 3,
   "id": "cb67cda4-4a52-4509-8283-d17262019d66",
   "metadata": {},
   "outputs": [
    {
     "data": {
      "text/plain": [
       "array([[0., 0., 0.],\n",
       "       [0., 0., 0.]])"
      ]
     },
     "execution_count": 3,
     "metadata": {},
     "output_type": "execute_result"
    }
   ],
   "source": [
    "np.zeros((2, 3))"
   ]
  },
  {
   "cell_type": "markdown",
   "id": "193d48da-029b-439c-a326-a49ab7ea89b5",
   "metadata": {},
   "source": [
    "#### 2. Linspace  <a id=2></a>\n",
    "Creates an array with evenly spaced float numbers over a specified interval. [Official docs](https://numpy.org/doc/1.26/reference/generated/numpy.linspace.html)  \n",
    "```python\n",
    "np.linspace(start, stop, num=50, endpoint=True, retstep=False, dtype=None, axis=0)\n",
    "```\n",
    "**Important params:**  \n",
    "`start`: starting index.  \n",
    "`end`: last index.  \n",
    "`num`: number of samples to generate.  "
   ]
  },
  {
   "cell_type": "code",
   "execution_count": 4,
   "id": "5c2fc3b6-fca9-4bc3-85e6-9b019ca53766",
   "metadata": {},
   "outputs": [
    {
     "data": {
      "text/plain": [
       "array([ 10,  20,  30,  40,  50,  60,  70,  80,  90, 100])"
      ]
     },
     "execution_count": 4,
     "metadata": {},
     "output_type": "execute_result"
    }
   ],
   "source": [
    "np.linspace(10, 100, 10, dtype=\"int32\")"
   ]
  },
  {
   "cell_type": "code",
   "execution_count": 5,
   "id": "ea1b3daf-42cd-4241-984f-e41356fdb850",
   "metadata": {},
   "outputs": [
    {
     "data": {
      "text/plain": [
       "array([0. , 0.5, 1. , 1.5, 2. , 2.5, 3. , 3.5, 4. ])"
      ]
     },
     "execution_count": 5,
     "metadata": {},
     "output_type": "execute_result"
    }
   ],
   "source": [
    "np.linspace(0, 4, 9)"
   ]
  },
  {
   "cell_type": "markdown",
   "id": "8b1c7bca-ceb4-464f-b188-327bc83f69c6",
   "metadata": {},
   "source": [
    "#### 3. Arange  <a id=3></a>\n",
    "Return evenly spaced integer values over a given interval with some step size. [Official docs](https://numpy.org/doc/1.26/reference/generated/numpy.arange.html)  \n",
    "```python\n",
    "np.arange(start, stop, step, dtype=None, *, like=None)\n",
    "```\n",
    "**Important params:**  \n",
    "`step`: Space between values.  "
   ]
  },
  {
   "cell_type": "code",
   "execution_count": 6,
   "id": "bf1aceac-d00a-448e-9ac1-c206aa79cf80",
   "metadata": {},
   "outputs": [
    {
     "data": {
      "text/plain": [
       "array([0, 3, 6, 9])"
      ]
     },
     "execution_count": 6,
     "metadata": {},
     "output_type": "execute_result"
    }
   ],
   "source": [
    "np.arange(0, 10, 3)"
   ]
  },
  {
   "cell_type": "markdown",
   "id": "16fb6e44-b84d-46b5-8e75-5a85bbd26848",
   "metadata": {},
   "source": [
    "#### 4. Uniform samples  <a id=4></a>\n",
    "Generate a random sample from a uniform distribution between lower and higher limit values. [Official docs](https://numpy.org/doc/1.26/reference/random/generated/numpy.random.uniform.html)  \n",
    "```python\n",
    "np.random.uniform(low=0.0, high=1.0, size=None)\n",
    "```"
   ]
  },
  {
   "cell_type": "code",
   "execution_count": 7,
   "id": "4973967a-0c50-4264-b74b-6efe0f203cb4",
   "metadata": {},
   "outputs": [
    {
     "data": {
      "text/plain": [
       "array([5.07952644, 6.98362797, 7.94970133, 5.42195331, 6.48178978])"
      ]
     },
     "execution_count": 7,
     "metadata": {},
     "output_type": "execute_result"
    }
   ],
   "source": [
    "np.random.uniform(5, 10, size=5)"
   ]
  },
  {
   "cell_type": "code",
   "execution_count": 8,
   "id": "b8e875c4-ac28-41e0-afed-011cb3bd0076",
   "metadata": {},
   "outputs": [
    {
     "data": {
      "text/plain": [
       "array([[ 0.0849129 , -0.81957586,  0.71925625],\n",
       "       [-0.32771489,  0.47391389, -0.23595731]])"
      ]
     },
     "execution_count": 8,
     "metadata": {},
     "output_type": "execute_result"
    }
   ],
   "source": [
    "np.random.uniform(-1, 1, size=(2, 3))"
   ]
  },
  {
   "cell_type": "markdown",
   "id": "8f3c3c6d-07e2-4de2-9552-ac3799a324b4",
   "metadata": {},
   "source": [
    "#### 5. Random randint  <a id=5></a>\n",
    "Generate n random integer samples within a range. [Official docs](https://numpy.org/doc/1.26/reference/random/generated/numpy.random.randint.html)\n",
    "\n",
    "```python\n",
    "np.random.randint(low, high=None, size=None, dtype=int)\n",
    "```"
   ]
  },
  {
   "cell_type": "code",
   "execution_count": 9,
   "id": "184ec267-00ab-49e5-8428-7b2a99f645a9",
   "metadata": {},
   "outputs": [
    {
     "data": {
      "text/plain": [
       "array([[-4, -1],\n",
       "       [ 0, -2]])"
      ]
     },
     "execution_count": 9,
     "metadata": {},
     "output_type": "execute_result"
    }
   ],
   "source": [
    "np.random.randint(-4, 4, size=(2, 2))"
   ]
  },
  {
   "cell_type": "markdown",
   "id": "6f37e83f-f92a-47d1-942b-4b9d520adf4c",
   "metadata": {},
   "source": [
    "#### 6. Random.random  <a id=6></a>\n",
    "Generate n random float samples. [Official docs](https://numpy.org/doc/1.26/reference/random/generated/numpy.random.random.html)  \n",
    "\n",
    "```python\n",
    "np.random(size=None)\n",
    "```"
   ]
  },
  {
   "cell_type": "code",
   "execution_count": 10,
   "id": "4b35e505-5da6-49af-b6e6-546dd9e9e574",
   "metadata": {},
   "outputs": [
    {
     "data": {
      "text/plain": [
       "array([[0.71623261, 0.79127061]])"
      ]
     },
     "execution_count": 10,
     "metadata": {},
     "output_type": "execute_result"
    }
   ],
   "source": [
    "np.random.random(size=(1, 2))"
   ]
  },
  {
   "cell_type": "markdown",
   "id": "f0c01575-1bc5-4854-9de8-a0ea1384a062",
   "metadata": {},
   "source": [
    "#### 7. Logspace  <a id=7></a>\n",
    "Generate evenly spaced numbers on a log scale. [Official docs](https://numpy.org/doc/1.26/reference/generated/numpy.logspace.html)  \n",
    "```python\n",
    "np.logspace(start, stop, num=50, endpoint=True, base=10.0, dtype=None, axis=0)\n",
    "```\n",
    "**Important params:**  \n",
    "`start`: starting value of sequence.  \n",
    "`stop`: last value of sequence.  \n",
    "`endpoint`: if True, the last sample will be included in the sequence.  \n",
    "`base`: The base of log space. default is 10."
   ]
  },
  {
   "cell_type": "code",
   "execution_count": 11,
   "id": "15e2e96e-216f-46a9-a2c0-a293044289c9",
   "metadata": {},
   "outputs": [
    {
     "data": {
      "text/plain": [
       "array([1.00000000e+00, 5.65685425e+00, 3.20000000e+01, 1.81019336e+02,\n",
       "       1.02400000e+03])"
      ]
     },
     "execution_count": 11,
     "metadata": {},
     "output_type": "execute_result"
    }
   ],
   "source": [
    "np.logspace(0, 10, 5, base=2)"
   ]
  },
  {
   "cell_type": "markdown",
   "id": "3d531e49-f758-4231-9e57-a7f2d4552cf3",
   "metadata": {},
   "source": [
    "#### 8. Array of zeros  <a id=8></a>\n",
    "Creates array filled with zeros. [Official docs](https://numpy.org/doc/1.26/reference/generated/numpy.zeros.html)  \n",
    "```python\n",
    "np.zeros(shape, dtype=float, order=\"C\")\n",
    "```\n",
    "**Important params:**  \n",
    "`shape`: shape of resultant array.  \n",
    "`dtype`: desired data type of resultant array.  "
   ]
  },
  {
   "cell_type": "code",
   "execution_count": 12,
   "id": "376d5b0d-6c4e-4230-a52b-970f4cc047ba",
   "metadata": {},
   "outputs": [
    {
     "data": {
      "text/plain": [
       "array([[0, 0, 0],\n",
       "       [0, 0, 0],\n",
       "       [0, 0, 0]])"
      ]
     },
     "execution_count": 12,
     "metadata": {},
     "output_type": "execute_result"
    }
   ],
   "source": [
    "np.zeros((3, 3), dtype=\"int\")"
   ]
  },
  {
   "cell_type": "markdown",
   "id": "a2dd24c8-2d8a-40bb-9269-3a020a453635",
   "metadata": {},
   "source": [
    "#### 9. Array of ones <a id=9></a>\n",
    "Creates array filled with ones. [Official docs](https://numpy.org/doc/1.26/reference/generated/numpy.ones.html)  \n",
    "```python\n",
    "np.ones(shape, dtype=None, order=\"C\")\n",
    "```"
   ]
  },
  {
   "cell_type": "code",
   "execution_count": 13,
   "id": "fbc8ece8-30c7-4c90-8a80-62f0df88ffec",
   "metadata": {},
   "outputs": [
    {
     "data": {
      "text/plain": [
       "array([[1., 1., 1., 1.],\n",
       "       [1., 1., 1., 1.],\n",
       "       [1., 1., 1., 1.]])"
      ]
     },
     "execution_count": 13,
     "metadata": {},
     "output_type": "execute_result"
    }
   ],
   "source": [
    "np.ones((3, 4))"
   ]
  },
  {
   "cell_type": "markdown",
   "id": "e35623ce-cda8-4519-9ff2-1826269a5c6e",
   "metadata": {},
   "source": [
    "#### 10. Array filled with other number  <a id=10></a>\n",
    "Creates array filled with a given value. [Official docs](https://numpy.org/doc/1.26/reference/generated/numpy.full.html)  \n",
    "```python\n",
    "np.full(shape, fill_value, dtype=None)\n",
    "```\n",
    "**Important params:**  \n",
    "`fill_value`: random value to fill inside the array.  "
   ]
  },
  {
   "cell_type": "code",
   "execution_count": 14,
   "id": "856859b8-ec0f-4902-883a-b07ec0f711ea",
   "metadata": {},
   "outputs": [
    {
     "data": {
      "text/plain": [
       "array([[3.4, 3.4, 3.4, 3.4],\n",
       "       [3.4, 3.4, 3.4, 3.4]])"
      ]
     },
     "execution_count": 14,
     "metadata": {},
     "output_type": "execute_result"
    }
   ],
   "source": [
    "np.full((2, 4), 3.4)"
   ]
  },
  {
   "cell_type": "markdown",
   "id": "0adfcb0c-36c7-41fa-9013-623d6fbc2854",
   "metadata": {},
   "source": [
    "#### 11. Identity  <a id=11></a>\n",
    "Create an identity matrix with specified dimensions. [Official docs](https://numpy.org/doc/1.26/reference/generated/numpy.identity.html)  \n",
    "```python\n",
    "np.identity(n, dtype=None)\n",
    "```"
   ]
  },
  {
   "cell_type": "code",
   "execution_count": 15,
   "id": "99126630-0815-42f0-a5ee-bc71aca93fe5",
   "metadata": {},
   "outputs": [
    {
     "data": {
      "text/plain": [
       "array([[1., 0., 0., 0.],\n",
       "       [0., 1., 0., 0.],\n",
       "       [0., 0., 1., 0.],\n",
       "       [0., 0., 0., 1.]])"
      ]
     },
     "execution_count": 15,
     "metadata": {},
     "output_type": "execute_result"
    }
   ],
   "source": [
    "np.identity(4)"
   ]
  },
  {
   "cell_type": "markdown",
   "id": "5a5a7b53-bdfe-4003-baae-635949b2c5ec",
   "metadata": {},
   "source": [
    "---\n",
    "\n",
    "### Array operations"
   ]
  },
  {
   "cell_type": "markdown",
   "id": "5cadd62b-07a8-4827-8b9b-baffbc988fe0",
   "metadata": {},
   "source": [
    "#### 12. Min  <a id=12></a>\n",
    "Return the minimum value from the array. [Official docs](https://numpy.org/doc/1.26/reference/generated/numpy.min.html)  \n",
    "```python\n",
    "np.min(a, axis=None, out=None, keepdims=<no value>, initial=<no value>, where=<no value>)\n",
    "```\n",
    "**Important params:**  \n",
    "`axis`: axis along which to operate.  \n",
    "`out`: alternative array to store the output.  "
   ]
  },
  {
   "cell_type": "code",
   "execution_count": 16,
   "id": "54482312-0a38-45a7-90e5-1c8ee7438e65",
   "metadata": {},
   "outputs": [
    {
     "name": "stdout",
     "output_type": "stream",
     "text": [
      "[[ 0  0  0]\n",
      " [-4 -4 -3]\n",
      " [ 0  3  2]]\n"
     ]
    },
    {
     "data": {
      "text/plain": [
       "-4"
      ]
     },
     "execution_count": 16,
     "metadata": {},
     "output_type": "execute_result"
    }
   ],
   "source": [
    "arr = np.random.randint(-4, 4, size=(3, 3))\n",
    "print(arr)\n",
    "np.min(arr)"
   ]
  },
  {
   "cell_type": "markdown",
   "id": "80b5f6ac-e554-488e-bd1c-536c85552d45",
   "metadata": {},
   "source": [
    "#### 13. Max  <a id=13></a>\n",
    "Return the maximum value from the array. [Official docs](https://numpy.org/doc/1.26/reference/generated/numpy.max.html)  \n",
    "```python\n",
    "np.max(a, axis=None, out=None)\n",
    "```"
   ]
  },
  {
   "cell_type": "code",
   "execution_count": 17,
   "id": "151cb6bd-b6e0-4b62-bc09-600a1d6247e8",
   "metadata": {},
   "outputs": [
    {
     "data": {
      "text/plain": [
       "3"
      ]
     },
     "execution_count": 17,
     "metadata": {},
     "output_type": "execute_result"
    }
   ],
   "source": [
    "np.max(arr)"
   ]
  },
  {
   "cell_type": "markdown",
   "id": "5566bd73-5bca-4273-b17a-2201bf4445fb",
   "metadata": {},
   "source": [
    "#### 14. Unique  <a id=14></a>\n",
    "Return an array with all the unique elements sorted. [Official docs](https://numpy.org/doc/1.26/reference/generated/numpy.unique.html)  \n",
    "```python\n",
    "np.unique(ar, return_index=False, return_inverse=False, return_counts=False, axis=None)\n",
    "```\n",
    "**Important params:**  \n",
    "`return_index`: if True, return the indices of the array.  \r",
    "`return_invers`: if True, return the indices of the unique array.  \r",
    "`return_counts` : if True, return the number of times each unique element appears inside the arry.  \n",
    "`axis`: The axis to operate on. By default, the array is considered flatted."
   ]
  },
  {
   "cell_type": "code",
   "execution_count": 18,
   "id": "90fbc5e1-bebd-4c9d-8728-a45809b429fc",
   "metadata": {},
   "outputs": [
    {
     "data": {
      "text/plain": [
       "(array([-4, -3,  0,  2,  3]), array([2, 1, 4, 1, 1], dtype=int64))"
      ]
     },
     "execution_count": 18,
     "metadata": {},
     "output_type": "execute_result"
    }
   ],
   "source": [
    "np.unique(arr, return_counts=True)"
   ]
  },
  {
   "cell_type": "markdown",
   "id": "09128371-8cb2-4470-b72d-b695108f56d9",
   "metadata": {},
   "source": [
    "#### 15. Mean  <a id=15></a>\n",
    "It is used to get the mean of the array. [Official docs](https://numpy.org/doc/1.26/reference/generated/numpy.mean.html)  \n",
    "```python\n",
    "np.mean(a, axis=None, dtype=None, out=None)\n",
    "```"
   ]
  },
  {
   "cell_type": "code",
   "execution_count": 19,
   "id": "19242c22-5973-43df-8028-3b938afa96e1",
   "metadata": {},
   "outputs": [
    {
     "data": {
      "text/plain": [
       "3.5"
      ]
     },
     "execution_count": 19,
     "metadata": {},
     "output_type": "execute_result"
    }
   ],
   "source": [
    "arr = np.array([[1, 2, 3], [4, 5, 6]])\n",
    "np.mean(arr)"
   ]
  },
  {
   "cell_type": "code",
   "execution_count": 20,
   "id": "6099fd18-6b95-4fd7-873a-66d5e5089237",
   "metadata": {},
   "outputs": [
    {
     "data": {
      "text/plain": [
       "array([2., 5.])"
      ]
     },
     "execution_count": 20,
     "metadata": {},
     "output_type": "execute_result"
    }
   ],
   "source": [
    "np.mean(arr, axis=1)"
   ]
  },
  {
   "cell_type": "markdown",
   "id": "fccc71ec-eb8b-443c-8952-30d8d2f5af47",
   "metadata": {},
   "source": [
    "#### 16. Median  <a id=16></a>\n",
    "Return the median value of the array. [Official docs](https://numpy.org/doc/1.26/reference/generated/numpy.median.html)  \n",
    "```python\n",
    "np.median(a, axis=None, out=None)\n",
    "```"
   ]
  },
  {
   "cell_type": "code",
   "execution_count": 21,
   "id": "77477ab8-474a-4832-8726-65944af75e81",
   "metadata": {},
   "outputs": [
    {
     "data": {
      "text/plain": [
       "3.5"
      ]
     },
     "execution_count": 21,
     "metadata": {},
     "output_type": "execute_result"
    }
   ],
   "source": [
    "arr = np.array([[1, 2, 3], [4, 5, 6]])\n",
    "np.median(arr)"
   ]
  },
  {
   "cell_type": "markdown",
   "id": "54ec8f7a-6cf0-4abd-af77-f25cf3f83e49",
   "metadata": {},
   "source": [
    "#### 17. Digitize  <a id=17></a>\n",
    "Return the indices of the bins to which each value in the input array belongs. [Official docs](https://numpy.org/doc/1.26/reference/generated/numpy.digitize.html)  \n",
    "```python\n",
    "np.digitize(x, bins, right=False)\n",
    "```\n",
    "**Important params:**  \n",
    "`bins`: Array of bins.  \n",
    "`right`: Indicates whether the interval includes the right or left bin edge."
   ]
  },
  {
   "cell_type": "code",
   "execution_count": 22,
   "id": "37f102fc-e39d-4118-b2ef-4aca8116d01d",
   "metadata": {},
   "outputs": [
    {
     "data": {
      "text/plain": [
       "array([0, 1, 1, 2, 2, 2, 4, 4, 4], dtype=int64)"
      ]
     },
     "execution_count": 22,
     "metadata": {},
     "output_type": "execute_result"
    }
   ],
   "source": [
    "a = np.array([-0.9, 0.5, 0.9, 1, 1.2, 1.4, 3.6, 4.7, 5.3])\n",
    "bins = np.array([0, 1, 2, 3])\n",
    "np.digitize(a, bins)"
   ]
  },
  {
   "cell_type": "markdown",
   "id": "dd5a040b-02d6-4111-958f-185fcc86b312",
   "metadata": {},
   "source": [
    "```\n",
    "Exp        Value\r\n",
    "x < 0     :   0\r\n",
    "0 <= x <1 :   1\r\n",
    "1 <= x <2 :   2\r\n",
    "2 <= x <3 :   3\r\n",
    "3 <=x     :   4\r\n",
    "Compares -0.9 to 0, here x < 0 so Put 0 in resulting array.\r\n",
    "Compares  0.5 to 0, here 0 <= x <1 so Put 1.\r\n",
    ".\r\n",
    "Compares 5.4 to 4, here 3<=x so Put 4\r\n",
    "\n",
    "```"
   ]
  },
  {
   "cell_type": "markdown",
   "id": "0cbd758e-bf5c-4ee0-83b1-1ee5123940c7",
   "metadata": {},
   "source": [
    "#### 18. Reshape  <a id=18></a>\n",
    "It is one of the most used functions of NumPy. It Returns an array containing the same data with a new shape. [Official docs](https://numpy.org/doc/1.26/reference/generated/numpy.reshape.html)  \n",
    "```python\n",
    "np.reshape(a, newshape, order=\"C\")\n",
    "```"
   ]
  },
  {
   "cell_type": "code",
   "execution_count": 23,
   "id": "578b621c-6e75-4454-bd12-91a05df05a3b",
   "metadata": {},
   "outputs": [
    {
     "data": {
      "text/plain": [
       "(array([[ 2,  7,  1],\n",
       "        [ 8,  4,  7],\n",
       "        [14, 11,  6],\n",
       "        [ 5,  8,  2]]),\n",
       " array([[ 2,  7,  1,  8,  4,  7],\n",
       "        [14, 11,  6,  5,  8,  2]]))"
      ]
     },
     "execution_count": 23,
     "metadata": {},
     "output_type": "execute_result"
    }
   ],
   "source": [
    "A = np.random.randint(15,size=(4,3))\n",
    "A, A.reshape(2, 6)"
   ]
  },
  {
   "cell_type": "code",
   "execution_count": 24,
   "id": "9cdd55e3-6597-414a-b8a5-e75bb87e1e7e",
   "metadata": {},
   "outputs": [
    {
     "data": {
      "text/plain": [
       "array([ 2,  7,  1,  8,  4,  7, 14, 11,  6,  5,  8,  2])"
      ]
     },
     "execution_count": 24,
     "metadata": {},
     "output_type": "execute_result"
    }
   ],
   "source": [
    "A.reshape(-1)"
   ]
  },
  {
   "cell_type": "markdown",
   "id": "04c4c489-8acf-442c-88a7-d5cb03f10aed",
   "metadata": {},
   "source": [
    "#### 19. Expand Dimensions  <a id=19></a>\n",
    "It is used to expand the dimensions of an array. This method is useful for creating sample test data for testing a machine learning model. [Official docs](https://numpy.org/doc/1.26/reference/generated/numpy.expand_dims.html)  \n",
    "```python\n",
    "np.expand_dims(a, axis)\n",
    "```"
   ]
  },
  {
   "cell_type": "code",
   "execution_count": 25,
   "id": "6608f251-6fe9-42ab-9c4e-e81a78ed15ff",
   "metadata": {},
   "outputs": [
    {
     "data": {
      "text/plain": [
       "array([[ 0, 14,  1,  8, 11,  4,  9,  4,  1, 13, 13, 11]])"
      ]
     },
     "execution_count": 25,
     "metadata": {},
     "output_type": "execute_result"
    }
   ],
   "source": [
    "arr = np.array([0, 14, 1, 8, 11, 4, 9, 4, 1, 13, 13, 11])\n",
    "np.expand_dims(arr, axis=0)"
   ]
  },
  {
   "cell_type": "code",
   "execution_count": 26,
   "id": "8023beed-2b31-4617-8fb1-aa38b48a1612",
   "metadata": {},
   "outputs": [
    {
     "data": {
      "text/plain": [
       "array([[ 0],\n",
       "       [14],\n",
       "       [ 1],\n",
       "       [ 8],\n",
       "       [11],\n",
       "       [ 4],\n",
       "       [ 9],\n",
       "       [ 4],\n",
       "       [ 1],\n",
       "       [13],\n",
       "       [13],\n",
       "       [11]])"
      ]
     },
     "execution_count": 26,
     "metadata": {},
     "output_type": "execute_result"
    }
   ],
   "source": [
    "np.expand_dims(arr, axis=1)"
   ]
  },
  {
   "cell_type": "markdown",
   "id": "4ebaf3b4-f582-4088-893a-5f49fbca8547",
   "metadata": {},
   "source": [
    "#### 20. Squeeze  <a id=20></a>\n",
    "Reduce the dimension of an array by removing single-dimensional entrie. [Official docs](https://numpy.org/doc/1.26/reference/generated/numpy.squeeze.html)  \n",
    "```python\n",
    "np.squeeze(a, axis=None)\n",
    "```"
   ]
  },
  {
   "cell_type": "code",
   "execution_count": 27,
   "id": "3c87014b-a4ba-4642-8852-4e9249ba5bef",
   "metadata": {},
   "outputs": [
    {
     "data": {
      "text/plain": [
       "array([ 8, 14,  1,  8, 11,  4,  9,  4,  1, 13, 13, 11])"
      ]
     },
     "execution_count": 27,
     "metadata": {},
     "output_type": "execute_result"
    }
   ],
   "source": [
    "arr = np.array([[ 8],[14],[ 1],[ 8],[11],[ 4],[ 9],[ 4],[ 1],[13],[13],[11]])\n",
    "np.squeeze(arr)"
   ]
  },
  {
   "cell_type": "code",
   "execution_count": 28,
   "id": "49b4d92f-e619-4d3f-acb2-505989ed7430",
   "metadata": {},
   "outputs": [
    {
     "data": {
      "text/plain": [
       "array([ 8, 14,  1,  8, 11,  4,  9,  4,  1, 13, 13, 11])"
      ]
     },
     "execution_count": 28,
     "metadata": {},
     "output_type": "execute_result"
    }
   ],
   "source": [
    "np.squeeze(arr, axis=1)"
   ]
  },
  {
   "cell_type": "markdown",
   "id": "0445e900-bbc0-4bf7-80a3-380dc7c91fd8",
   "metadata": {},
   "source": [
    "#### 21. Count Non-Zero  <a id=21></a>\n",
    "Count all the non-zero elements and return their count. [Official docs](https://numpy.org/doc/1.26/reference/generated/numpy.count_nonzero.html)  \n",
    "```python\n",
    "np.count_nonzero(a, axis=None, *, keepdims=False)\n",
    "```"
   ]
  },
  {
   "cell_type": "code",
   "execution_count": 29,
   "id": "4c399b75-c944-4a00-bee8-0df46c2e03d8",
   "metadata": {},
   "outputs": [
    {
     "data": {
      "text/plain": [
       "3"
      ]
     },
     "execution_count": 29,
     "metadata": {},
     "output_type": "execute_result"
    }
   ],
   "source": [
    "a = np.array([0, 0, 1, 1, 1, 0])\n",
    "np.count_nonzero(a)"
   ]
  },
  {
   "cell_type": "code",
   "execution_count": 30,
   "id": "51229eb5-38ca-4bab-98a0-a730b2c71283",
   "metadata": {},
   "outputs": [
    {
     "data": {
      "text/plain": [
       "(4, array([2, 0, 2], dtype=int64), array([[4]], dtype=int64))"
      ]
     },
     "execution_count": 30,
     "metadata": {},
     "output_type": "execute_result"
    }
   ],
   "source": [
    "a = np.array([[0, 1, 1], [0, 0, 0], [1, 0, 1]])\n",
    "np.count_nonzero(a), np.count_nonzero(a, axis=1), np.count_nonzero(a, keepdims=True)"
   ]
  },
  {
   "cell_type": "markdown",
   "id": "8923eee8-6096-43fc-9275-f5350487cc18",
   "metadata": {},
   "source": [
    "#### 22. Argwhere  <a id=22></a>\n",
    "Find and return all the indices of non-zero elements. [Official docs](https://numpy.org/doc/1.26/reference/generated/numpy.argwhere.html)  \n",
    "```python\n",
    "np.argwhere(a)\n",
    "```"
   ]
  },
  {
   "cell_type": "code",
   "execution_count": 31,
   "id": "098eaffa-489a-493b-934d-c36359c16add",
   "metadata": {},
   "outputs": [
    {
     "data": {
      "text/plain": [
       "array([[0, 1],\n",
       "       [0, 2],\n",
       "       [2, 0],\n",
       "       [2, 2]], dtype=int64)"
      ]
     },
     "execution_count": 31,
     "metadata": {},
     "output_type": "execute_result"
    }
   ],
   "source": [
    "a = np.array([[0, 1, 1], [0, 0, 0], [1, 0, 1]])\n",
    "np.argwhere(a)"
   ]
  },
  {
   "cell_type": "code",
   "execution_count": 32,
   "id": "da5e30ee-584e-4898-8c96-1844862d8f87",
   "metadata": {},
   "outputs": [
    {
     "data": {
      "text/plain": [
       "array([[2],\n",
       "       [3],\n",
       "       [4]], dtype=int64)"
      ]
     },
     "execution_count": 32,
     "metadata": {},
     "output_type": "execute_result"
    }
   ],
   "source": [
    "a = np.array([0, 0, 1, 1, 1, 0])\n",
    "np.argwhere(a)"
   ]
  },
  {
   "cell_type": "markdown",
   "id": "fba04096-13b2-4174-984c-204b606f5642",
   "metadata": {},
   "source": [
    "#### 23. Argmax & Argmin  <a id=23></a>\n",
    "argmax returns the index of the max element from the array. It can be used to get the index of high probability predicted labels in multiclass image classification problems. [Official docs](https://numpy.org/doc/1.26/reference/generated/numpy.argmax.html)  \n",
    "```python\n",
    "np.argmax(a, axis=None, out=None)\n",
    "```"
   ]
  },
  {
   "cell_type": "code",
   "execution_count": 33,
   "id": "a86320c9-ee7d-463d-90ff-c782ca0e67e2",
   "metadata": {},
   "outputs": [
    {
     "data": {
      "text/plain": [
       "(10, array([2, 1, 2, 0, 2], dtype=int64), array([3, 1, 0], dtype=int64))"
      ]
     },
     "execution_count": 33,
     "metadata": {},
     "output_type": "execute_result"
    }
   ],
   "source": [
    "arr = np.array([[1, 5, 2, 19, 3], [3, 89, 12, 3, 1], [91, 65, 32, 1, 7]])\n",
    "np.argmax(arr), np.argmax(arr, axis=0), np.argmax(arr, axis=1)"
   ]
  },
  {
   "cell_type": "markdown",
   "id": "a9dc1ce4-73df-4d4d-be69-c9fbcf205fa2",
   "metadata": {},
   "source": [
    "Argmin will return the index of the lowest element from the array. [Official docs](https://numpy.org/doc/1.26/reference/generated/numpy.argmin.html)  \n",
    "```python\n",
    "np.argmin(a, axis=None, out=None)\n",
    "```"
   ]
  },
  {
   "cell_type": "code",
   "execution_count": 34,
   "id": "396cfd66-a554-498b-a72b-ef97886c94c4",
   "metadata": {},
   "outputs": [
    {
     "data": {
      "text/plain": [
       "(0, array([0, 0, 0, 2, 1], dtype=int64), array([0, 4, 3], dtype=int64))"
      ]
     },
     "execution_count": 34,
     "metadata": {},
     "output_type": "execute_result"
    }
   ],
   "source": [
    "np.argmin(arr), np.argmin(arr, axis=0), np.argmin(arr, axis=1)"
   ]
  },
  {
   "cell_type": "markdown",
   "id": "bef5cfbe-b944-4fcc-8039-aff04d12dfb4",
   "metadata": {},
   "source": [
    "#### 24. Sort  <a id=24></a>\n",
    "Sort the array and return. [Official docs](https://numpy.org/doc/1.26/reference/generated/numpy.sort.html)  \n",
    "```python\n",
    "np.sort(a, axis=-1, kind=None, order=None)\n",
    "```\n",
    "**Important params:**  \n",
    "`kind`: Sorting algorithm to use. {‘quicksort’, ‘mergesort’, ‘heapsort’, ‘stable’}  "
   ]
  },
  {
   "cell_type": "code",
   "execution_count": 35,
   "id": "2dfe6824-d8ca-4527-952c-4d9d1647c2df",
   "metadata": {},
   "outputs": [],
   "source": [
    "arr = np.array([[1, 5, 2, 19, 3], [3, 89, 12, 3, 1], [91, 65, 32, 1, 7]])"
   ]
  },
  {
   "cell_type": "code",
   "execution_count": 36,
   "id": "9dd84989-08e2-4cb9-924c-ed9021c14115",
   "metadata": {},
   "outputs": [
    {
     "data": {
      "text/plain": [
       "array([[ 1,  2,  3,  5, 19],\n",
       "       [ 1,  3,  3, 12, 89],\n",
       "       [ 1,  7, 32, 65, 91]])"
      ]
     },
     "execution_count": 36,
     "metadata": {},
     "output_type": "execute_result"
    }
   ],
   "source": [
    "np.sort(arr)"
   ]
  },
  {
   "cell_type": "code",
   "execution_count": 37,
   "id": "7eb405ba-d2ce-4da1-b2ff-5fe818ececcc",
   "metadata": {},
   "outputs": [
    {
     "data": {
      "text/plain": [
       "array([[ 1,  5,  2,  1,  1],\n",
       "       [ 3, 65, 12,  3,  3],\n",
       "       [91, 89, 32, 19,  7]])"
      ]
     },
     "execution_count": 37,
     "metadata": {},
     "output_type": "execute_result"
    }
   ],
   "source": [
    "np.sort(arr, axis=0)"
   ]
  },
  {
   "cell_type": "markdown",
   "id": "d64868d1-8870-4824-8680-eb29dd590203",
   "metadata": {},
   "source": [
    "#### 25. Abs  <a id=25></a>\n",
    "Return the absolute values of elements inside an array. It is useful when an array contains negative values.  [Official docs](https://numpy.org/doc/1.26/reference/generated/numpy.absolute.html)  \r\n"
   ]
  },
  {
   "cell_type": "code",
   "execution_count": 38,
   "id": "be3440b5-48b8-4e05-976d-82eb09290488",
   "metadata": {},
   "outputs": [
    {
     "data": {
      "text/plain": [
       "array([[ 1,  3, 14, 10,  0],\n",
       "       [ 1, 49, 34, 17,  1]])"
      ]
     },
     "execution_count": 38,
     "metadata": {},
     "output_type": "execute_result"
    }
   ],
   "source": [
    "arr = np.array([[1, -3, 14, -10, 0], [-1, 49, 34, -17, 1]])\n",
    "np.abs(arr)"
   ]
  },
  {
   "cell_type": "markdown",
   "id": "c98ef3eb-8380-4538-b5d0-b4c96c7bea6b",
   "metadata": {},
   "source": [
    "#### 26. Round  <a id=26></a>\n",
    "Round the float values to a specified number of decimal points. [Official docs](https://numpy.org/doc/1.26/reference/generated/numpy.round.html)  \n",
    "```python\n",
    "np.round(a, decimals=0, out=None)\n",
    "```\n",
    "**Important params:**  \n",
    "`decimals`: Number of decimals point to keep."
   ]
  },
  {
   "cell_type": "code",
   "execution_count": 39,
   "id": "07de0e49-5814-4bb1-b139-534bcfe62de5",
   "metadata": {},
   "outputs": [
    {
     "data": {
      "text/plain": [
       "array([[0.30649237, 0.74524832, 0.03261127],\n",
       "       [0.25021029, 0.33667234, 0.72166717]])"
      ]
     },
     "execution_count": 39,
     "metadata": {},
     "output_type": "execute_result"
    }
   ],
   "source": [
    "a = np.random.random(size=(2, 3))\n",
    "a"
   ]
  },
  {
   "cell_type": "code",
   "execution_count": 40,
   "id": "53b67c63-3cbe-4db4-ac25-2c9f3c69fe22",
   "metadata": {},
   "outputs": [
    {
     "data": {
      "text/plain": [
       "array([[0., 1., 0.],\n",
       "       [0., 0., 1.]])"
      ]
     },
     "execution_count": 40,
     "metadata": {},
     "output_type": "execute_result"
    }
   ],
   "source": [
    "np.round(a, decimals=0)"
   ]
  },
  {
   "cell_type": "code",
   "execution_count": 41,
   "id": "12239b28-7a72-4e4c-bf69-9a29e2fe670e",
   "metadata": {},
   "outputs": [
    {
     "data": {
      "text/plain": [
       "array([[0.3, 0.7, 0. ],\n",
       "       [0.3, 0.3, 0.7]])"
      ]
     },
     "execution_count": 41,
     "metadata": {},
     "output_type": "execute_result"
    }
   ],
   "source": [
    "np.round(a, decimals=1)"
   ]
  },
  {
   "cell_type": "code",
   "execution_count": 42,
   "id": "00e81174-cbd0-4f78-9fe5-8e67bf55d0b5",
   "metadata": {},
   "outputs": [
    {
     "data": {
      "text/plain": [
       "array([[0.31, 0.75, 0.03],\n",
       "       [0.25, 0.34, 0.72]])"
      ]
     },
     "execution_count": 42,
     "metadata": {},
     "output_type": "execute_result"
    }
   ],
   "source": [
    "np.round(a, decimals=2)"
   ]
  },
  {
   "cell_type": "markdown",
   "id": "d90165a5-f089-41a9-916a-08bb02ab6ebb",
   "metadata": {},
   "source": [
    "#### 27. Clip  <a id=27></a>\n",
    "It is used to keep the values of an array within a range. [Official docs](https://numpy.org/doc/1.26/reference/generated/numpy.clip.html)  \n",
    "```python\n",
    "np.clip(a, a_min, a_max, out=None, **kwargs)\n",
    "```\n",
    "**Important params:**  \n",
    "`a_min` and `a_max`: Minimum and maximum value. If None, clipping is not performed on the corresponding edge. Only one of them may be None.\r\n"
   ]
  },
  {
   "cell_type": "code",
   "execution_count": 43,
   "id": "b3b96f3f-c1c7-40e9-b5c1-c98edd4a4bb5",
   "metadata": {},
   "outputs": [
    {
     "data": {
      "text/plain": [
       "array([0, 1, 0, 0, 5, 5, 5, 2, 3])"
      ]
     },
     "execution_count": 43,
     "metadata": {},
     "output_type": "execute_result"
    }
   ],
   "source": [
    "arr = np.array([0, 1, -3, -4, 5, 6, 7, 2, 3])\n",
    "arr.clip(0,5)"
   ]
  },
  {
   "cell_type": "code",
   "execution_count": 44,
   "id": "9e60aec6-1374-41ff-aadd-2700cec55eac",
   "metadata": {},
   "outputs": [
    {
     "data": {
      "text/plain": [
       "array([ 0,  1, -1, -1,  3,  3,  3,  2,  3])"
      ]
     },
     "execution_count": 44,
     "metadata": {},
     "output_type": "execute_result"
    }
   ],
   "source": [
    "arr.clip(-1, 3)"
   ]
  },
  {
   "cell_type": "markdown",
   "id": "2e14e750-d4f7-47b5-a429-15050a176528",
   "metadata": {},
   "source": [
    "---\n",
    "\n",
    "### Replacing Values Inside Array  "
   ]
  },
  {
   "cell_type": "markdown",
   "id": "16158b01-27fc-46bd-93f6-ce93276da9d5",
   "metadata": {},
   "source": [
    "#### 28. Where  <a id=28></a>\n",
    "Return elements from an array where a condition satisfies. [Official docs](https://numpy.org/doc/1.26/reference/generated/numpy.where.html)  \n",
    "```python\n",
    "np.where(condition, [x, y])\n",
    "```\n",
    "**Important params:**  \n",
    "`condition`: condition to match. if true yield x otherwise y.  "
   ]
  },
  {
   "cell_type": "code",
   "execution_count": 45,
   "id": "6c7b3a60-77a5-4963-b859-f9e6dc596175",
   "metadata": {},
   "outputs": [
    {
     "data": {
      "text/plain": [
       "array([[ 0,  1,  2],\n",
       "       [ 3,  4,  5],\n",
       "       [ 6,  7,  8],\n",
       "       [ 9, 10, 11]])"
      ]
     },
     "execution_count": 45,
     "metadata": {},
     "output_type": "execute_result"
    }
   ],
   "source": [
    "a = np.arange(12).reshape(4,3)\n",
    "a"
   ]
  },
  {
   "cell_type": "code",
   "execution_count": 46,
   "id": "9748c4c1-2a73-4b1b-9ba4-9bfc544ddee9",
   "metadata": {},
   "outputs": [
    {
     "data": {
      "text/plain": [
       "(array([2, 2, 2, 3, 3, 3], dtype=int64),\n",
       " array([0, 1, 2, 0, 1, 2], dtype=int64))"
      ]
     },
     "execution_count": 46,
     "metadata": {},
     "output_type": "execute_result"
    }
   ],
   "source": [
    "np.where(a > 5)"
   ]
  },
  {
   "cell_type": "code",
   "execution_count": 47,
   "id": "cc39b100-9030-4c54-9014-8fcc5d00df1f",
   "metadata": {},
   "outputs": [
    {
     "data": {
      "text/plain": [
       "array([ 6,  7,  8,  9, 10, 11])"
      ]
     },
     "execution_count": 47,
     "metadata": {},
     "output_type": "execute_result"
    }
   ],
   "source": [
    "a[np.where(a > 5)]"
   ]
  },
  {
   "cell_type": "code",
   "execution_count": 48,
   "id": "f27a72e3-c720-4cd4-9935-65327a3a505b",
   "metadata": {},
   "outputs": [
    {
     "data": {
      "text/plain": [
       "array([[2, 0],\n",
       "       [2, 1],\n",
       "       [2, 2],\n",
       "       [3, 0],\n",
       "       [3, 1],\n",
       "       [3, 2]], dtype=int64)"
      ]
     },
     "execution_count": 48,
     "metadata": {},
     "output_type": "execute_result"
    }
   ],
   "source": [
    "# get array of indeces\n",
    "np.transpose(np.vstack(np.where(a > 5)))"
   ]
  },
  {
   "cell_type": "markdown",
   "id": "b805eae2-03bd-444c-8d36-70849cf76bee",
   "metadata": {},
   "source": [
    "#### 29. Put  <a id=29></a>\n",
    "Replaces specified elements of an array with given values. [Official docs](https://numpy.org/doc/1.26/reference/generated/numpy.put.html)  \n",
    "```python\n",
    "np.put(a, ind, v)\n",
    "```\n",
    "**Important params:**  \n",
    "`ind`: indices to be replaced.  \n",
    "`v`: values to place.  "
   ]
  },
  {
   "cell_type": "code",
   "execution_count": 49,
   "id": "6ae58f76-fb33-402a-bec7-9952b139a861",
   "metadata": {},
   "outputs": [],
   "source": [
    "arr = np.array([1, 2, 3, 4, 5, 6, 7])"
   ]
  },
  {
   "cell_type": "code",
   "execution_count": 50,
   "id": "c5ebe090-37bf-4540-82ea-ba8d3e0cd4d7",
   "metadata": {},
   "outputs": [
    {
     "data": {
      "text/plain": [
       "array([ 1, 88, 99,  4,  5,  6,  7])"
      ]
     },
     "execution_count": 50,
     "metadata": {},
     "output_type": "execute_result"
    }
   ],
   "source": [
    "np.put(arr, [1, 2], [88, 99])\n",
    "arr"
   ]
  },
  {
   "cell_type": "markdown",
   "id": "3b408b2f-ef95-4437-95bb-47c504f15a38",
   "metadata": {},
   "source": [
    "#### 30. Copyto  <a id=30></a>\n",
    "Copy the content of one array into another. [Official docs](https://numpy.org/doc/1.26/reference/generated/numpy.copyto.html)  \n",
    "```python\n",
    "np.copyto(dst, src, casting=\"same_kind\", where=True)\n",
    "```\n",
    "**Important params:**  \n",
    "`dst`: array into which values are copied.  \n",
    "`src`: array from which values are copied.  "
   ]
  },
  {
   "cell_type": "code",
   "execution_count": 51,
   "id": "55b5332f-bc5d-479a-8369-2e874c0ece61",
   "metadata": {},
   "outputs": [
    {
     "data": {
      "text/plain": [
       "(array([1, 2, 3]), array([4, 5, 6]))"
      ]
     },
     "execution_count": 51,
     "metadata": {},
     "output_type": "execute_result"
    }
   ],
   "source": [
    "arr1 = np.array([1,2,3])\n",
    "arr2 = np.array([4,5,6])\n",
    "arr1, arr2"
   ]
  },
  {
   "cell_type": "code",
   "execution_count": 52,
   "id": "d0ee7ee5-ab04-4ec9-bf88-9bc6f3eed79a",
   "metadata": {},
   "outputs": [
    {
     "data": {
      "text/plain": [
       "(array([4, 5, 6]), array([4, 5, 6]))"
      ]
     },
     "execution_count": 52,
     "metadata": {},
     "output_type": "execute_result"
    }
   ],
   "source": [
    "np.copyto(arr1, arr2)\n",
    "arr1, arr2"
   ]
  },
  {
   "cell_type": "markdown",
   "id": "a808521d-8c84-4286-8f86-6b9603acc1ca",
   "metadata": {},
   "source": [
    "---\n",
    "\n",
    "### Set Operations"
   ]
  },
  {
   "cell_type": "markdown",
   "id": "7e36fe59-2c71-4080-a655-a6ab05992db7",
   "metadata": {},
   "source": [
    "#### 31. Retrieve Common Elements  <a id=31></a>\n",
    "`np.intersect1d` function returns all the unique values from both arrays in a sorted manner. [Official docs](https://numpy.org/doc/1.26/reference/generated/numpy.intersect1d.html)  \n",
    "```python\n",
    "np.intersect1d(ar1, ar2, assume_unique=False, return_indeces=False)\n",
    "```\n",
    "**Important params:**  \n",
    "`assume_unique`: if true, then input arrays are both assumed to be unique.  \n",
    "`return_indices`: if true, then common elements indices are returned.  "
   ]
  },
  {
   "cell_type": "code",
   "execution_count": 53,
   "id": "e50c5724-f335-49b1-874c-50ac78316a51",
   "metadata": {},
   "outputs": [
    {
     "data": {
      "text/plain": [
       "array([1, 3, 4, 5])"
      ]
     },
     "execution_count": 53,
     "metadata": {},
     "output_type": "execute_result"
    }
   ],
   "source": [
    "ar1 = np.array([1, 2, 3, 4, 5, 6])\n",
    "ar2 = np.array([3, 4, 5, 8, 9, 1])\n",
    "np.intersect1d(ar1, ar2)"
   ]
  },
  {
   "cell_type": "code",
   "execution_count": 54,
   "id": "0c6d22d4-cf08-4bd7-b91f-ca1ab2f426b5",
   "metadata": {},
   "outputs": [
    {
     "data": {
      "text/plain": [
       "(array([1, 3, 4, 5]),\n",
       " array([0, 2, 3, 4], dtype=int64),\n",
       " array([5, 0, 1, 2], dtype=int64))"
      ]
     },
     "execution_count": 54,
     "metadata": {},
     "output_type": "execute_result"
    }
   ],
   "source": [
    "np.intersect1d(ar1, ar2, return_indices=True)"
   ]
  },
  {
   "cell_type": "markdown",
   "id": "592d2c2d-9af0-4911-8332-30f6a8f3f96e",
   "metadata": {},
   "source": [
    "#### 32. Difference  <a id=32></a>\n",
    "`np.setdiff1d` function returns all the unique elements from arr1 that are not present in arr2. [Official docs](https://numpy.org/doc/1.26/reference/generated/numpy.setdiff1d.html)  \n",
    "```python\n",
    "np.setdiff1d(ar1, ar2, assume_unique=False)\n",
    "```"
   ]
  },
  {
   "cell_type": "code",
   "execution_count": 55,
   "id": "e2df8715-96b5-41d5-99d0-0ea51d33a382",
   "metadata": {},
   "outputs": [
    {
     "data": {
      "text/plain": [
       "array([1, 3, 4])"
      ]
     },
     "execution_count": 55,
     "metadata": {},
     "output_type": "execute_result"
    }
   ],
   "source": [
    "ar1 = np.array([1, 7, 3, 2, 4, 1])\n",
    "ar2 = np.array([9, 2, 5, 6, 7, 8])\n",
    "np.setdiff1d(ar1, ar2)"
   ]
  },
  {
   "cell_type": "markdown",
   "id": "7c678cf8-cb0a-4098-8f96-11bf25d00494",
   "metadata": {},
   "source": [
    "#### 33. Extracts Unique Elements From Both Arrays  <a id=33></a>\n",
    "`np.setxor1d` function will return all the unique values from both arrays in sorted order. [Official docs](https://numpy.org/doc/1.26/reference/generated/numpy.setxor1d.html)  \n",
    "```python\n",
    "np.setxor1d(ar1, ar2, assume_unique=False)\n",
    "```"
   ]
  },
  {
   "cell_type": "code",
   "execution_count": 56,
   "id": "9d20c344-6bad-4080-9a05-efec154a3d84",
   "metadata": {},
   "outputs": [
    {
     "data": {
      "text/plain": [
       "array([ 2,  3,  6,  9, 36])"
      ]
     },
     "execution_count": 56,
     "metadata": {},
     "output_type": "execute_result"
    }
   ],
   "source": [
    "ar1 = np.array([1, 2, 3, 4, 6])\n",
    "ar2 = np.array([1, 4, 9, 4, 36])\n",
    "np.setxor1d(ar1, ar2)"
   ]
  },
  {
   "cell_type": "markdown",
   "id": "dcf472e8-559e-42bd-bf04-289502f8b89a",
   "metadata": {},
   "source": [
    "#### 34. Union  <a id=34></a>\n",
    "`np.union1d` function will combine both arrays into one. [Official docs](https://numpy.org/doc/1.26/reference/generated/numpy.union1d.html)  \n",
    "```python\n",
    "np.union1d(ar1, ar2)\n",
    "```"
   ]
  },
  {
   "cell_type": "code",
   "execution_count": 57,
   "id": "8f1ae0a0-559f-433e-9478-b8a3c3fca247",
   "metadata": {},
   "outputs": [
    {
     "data": {
      "text/plain": [
       "array([ 1,  2,  3,  4,  6,  9, 36])"
      ]
     },
     "execution_count": 57,
     "metadata": {},
     "output_type": "execute_result"
    }
   ],
   "source": [
    "ar1 = np.array([1, 2, 3, 4, 6])\n",
    "ar2 = np.array([1, 4, 9, 4, 36])\n",
    "np.union1d(ar1, ar2)"
   ]
  },
  {
   "cell_type": "markdown",
   "id": "6e5371b6-db34-4d88-8bc8-d5fa63400f60",
   "metadata": {},
   "source": [
    "---\n",
    "\n",
    "### Splitting"
   ]
  },
  {
   "cell_type": "markdown",
   "id": "5ba83f5d-4161-4107-a4be-a0f3fbf647b9",
   "metadata": {},
   "source": [
    "#### 35. Horizontal Split  <a id=35></a>\n",
    "`np.hsplit` function will split the data horizontally into n equal parts. [Official docs](https://numpy.org/doc/1.26/reference/generated/numpy.hsplit.html)  \n",
    "```python\n",
    "np.hsplit(ary, indeces_or_sections)\n",
    "```"
   ]
  },
  {
   "cell_type": "code",
   "execution_count": 58,
   "id": "3b435206-7573-40b1-885f-7cea36311545",
   "metadata": {},
   "outputs": [
    {
     "data": {
      "text/plain": [
       "[array([[3, 4],\n",
       "        [6, 7]]),\n",
       " array([[5, 2],\n",
       "        [2, 6]])]"
      ]
     },
     "execution_count": 58,
     "metadata": {},
     "output_type": "execute_result"
    }
   ],
   "source": [
    "arr = np.array([[3,4,5,2],[6,7,2,6]])\n",
    "np.hsplit(arr, 2)"
   ]
  },
  {
   "cell_type": "code",
   "execution_count": 59,
   "id": "f158af42-3d03-4bca-ada0-19be25e6c8f4",
   "metadata": {},
   "outputs": [
    {
     "data": {
      "text/plain": [
       "[array([[3],\n",
       "        [6]]),\n",
       " array([[4],\n",
       "        [7]]),\n",
       " array([[5],\n",
       "        [2]]),\n",
       " array([[2],\n",
       "        [6]])]"
      ]
     },
     "execution_count": 59,
     "metadata": {},
     "output_type": "execute_result"
    }
   ],
   "source": [
    "np.hsplit(arr, [1, 2, 3])"
   ]
  },
  {
   "cell_type": "code",
   "execution_count": 60,
   "id": "e74c5c82-4b8a-49bd-94eb-525e15e524c1",
   "metadata": {},
   "outputs": [
    {
     "data": {
      "text/plain": [
       "[array([[3, 4],\n",
       "        [6, 7]]),\n",
       " array([[5],\n",
       "        [2]]),\n",
       " array([[2],\n",
       "        [6]])]"
      ]
     },
     "execution_count": 60,
     "metadata": {},
     "output_type": "execute_result"
    }
   ],
   "source": [
    "np.hsplit(arr, [2, 3])"
   ]
  },
  {
   "cell_type": "markdown",
   "id": "b4b45baf-1d7b-491d-b1fb-5cef46f9ce6e",
   "metadata": {},
   "source": [
    "#### 36. Vertical Split  <a id=36></a>\n",
    "`np.vsplit` will split the data vertically into n equal parts. [Official docs](https://numpy.org/doc/1.26/reference/generated/numpy.vsplit.html)  \n",
    "```python\n",
    "np.vsplit(ary, indeces_or_sections)\n",
    "```"
   ]
  },
  {
   "cell_type": "code",
   "execution_count": 61,
   "id": "01c3a328-e415-410f-8caa-ad73e9348b89",
   "metadata": {},
   "outputs": [
    {
     "data": {
      "text/plain": [
       "[array([[3, 4, 5, 2]]), array([[6, 7, 2, 6]])]"
      ]
     },
     "execution_count": 61,
     "metadata": {},
     "output_type": "execute_result"
    }
   ],
   "source": [
    "np.vsplit(arr, 2)"
   ]
  },
  {
   "cell_type": "markdown",
   "id": "e2d5092e-9345-4576-aef8-621190dcd51e",
   "metadata": {},
   "source": [
    "---\n",
    "\n",
    "### Stacking"
   ]
  },
  {
   "cell_type": "markdown",
   "id": "28de5b5d-f130-4333-a565-24afcbc4606c",
   "metadata": {},
   "source": [
    "#### 37. Horizontal stacking  <a id=37></a>\n",
    "`np.hstack` will stack appends one array at the end of another. [Official docs](https://numpy.org/doc/1.26/reference/generated/numpy.hstack.html)  \n",
    "```python\n",
    "np.hstack(tup, *, dtype=None, casting=\"same_kind\")\n",
    "```\n",
    "**Important params:**  \n",
    "`tup`: sequence of ndarrays.  "
   ]
  },
  {
   "cell_type": "code",
   "execution_count": 62,
   "id": "383273bc-80e1-4c71-aded-a972d3e11b8a",
   "metadata": {},
   "outputs": [
    {
     "data": {
      "text/plain": [
       "array([ 1,  2,  3,  4,  5,  1,  4,  9, 16, 25])"
      ]
     },
     "execution_count": 62,
     "metadata": {},
     "output_type": "execute_result"
    }
   ],
   "source": [
    "ar1 = np.array([1, 2, 3, 4, 5])\n",
    "ar2 = np.array([1, 4, 9, 16, 25])\n",
    "np.hstack((ar1, ar2))"
   ]
  },
  {
   "cell_type": "markdown",
   "id": "dbdf095f-862d-4593-bd38-bd12fb51e38a",
   "metadata": {},
   "source": [
    "#### 38. Vertical stacking  <a id=38></a>\n",
    "`np.vstack` will stack one array on top of another. [Official docs](https://numpy.org/doc/1.26/reference/generated/numpy.vstack.html)  \n",
    "```python\n",
    "np.vstack(tup, *, dtype=None, casting=\"same_kind\")\n",
    "```"
   ]
  },
  {
   "cell_type": "code",
   "execution_count": 63,
   "id": "3a5ce1bc-5de7-4dad-98b7-dcc63490f8c0",
   "metadata": {},
   "outputs": [
    {
     "data": {
      "text/plain": [
       "array([[ 1,  2,  3,  4,  5],\n",
       "       [ 1,  4,  9, 16, 25]])"
      ]
     },
     "execution_count": 63,
     "metadata": {},
     "output_type": "execute_result"
    }
   ],
   "source": [
    "np.vstack((ar1, ar2))"
   ]
  },
  {
   "cell_type": "markdown",
   "id": "e3146fe9-172f-48f0-a9a3-03d341b0ee8f",
   "metadata": {},
   "source": [
    "---\n",
    "\n",
    "### Comparing Two Arrays"
   ]
  },
  {
   "cell_type": "markdown",
   "id": "fd9e697d-eeaf-4ef7-9c6b-f91078c76e24",
   "metadata": {},
   "source": [
    "#### 39. Allclose  <a id=39></a>\n",
    "`np.allclose` function finds whether two arrays are equal or approximately equal to each other based on some tolerance value if the shape of both arrays is the same. [Official docs](https://numpy.org/doc/1.26/reference/generated/numpy.allclose.html)  \n",
    "```python\n",
    "np.allclose(a, b, rtol=1e-05, atol=1e-08, equal_nan=False)\n",
    "```\n",
    "**Important params:**  \n",
    "`rtol`: The relative tolerance parameter.  \n",
    "`atol`: The absolute tolerance parameter.  \n",
    "`equal_nan`: Whether to compare NaN’s as equal. If True, NaN’s in a will be considered equal to NaN’s in b in the output array."
   ]
  },
  {
   "cell_type": "code",
   "execution_count": 89,
   "id": "26673454-82fa-4dff-b676-e490eed3e367",
   "metadata": {},
   "outputs": [
    {
     "data": {
      "text/plain": [
       "False"
      ]
     },
     "execution_count": 89,
     "metadata": {},
     "output_type": "execute_result"
    }
   ],
   "source": [
    "a = np.array([0.25, 0.4, 0.6, 0.32])\n",
    "b = np.array([0.26, 0.3, 0.7, 0.32])\n",
    "tolerance = 0.1  # Total Difference \n",
    "np.allclose(a, b, tolerance)"
   ]
  },
  {
   "cell_type": "code",
   "execution_count": 65,
   "id": "769781ae-1565-49a7-ab10-dc028908ed7f",
   "metadata": {},
   "outputs": [
    {
     "data": {
      "text/plain": [
       "True"
      ]
     },
     "execution_count": 65,
     "metadata": {},
     "output_type": "execute_result"
    }
   ],
   "source": [
    "tolerance = 0.5\n",
    "np.allclose(a, b, tolerance)"
   ]
  },
  {
   "cell_type": "markdown",
   "id": "8b5473c5-ea83-4ff2-9a84-d1c26c2ac080",
   "metadata": {},
   "source": [
    "#### 40. Repeat  <a id=40></a>\n",
    "It is used to repeat elements of an array for n number of times. [Official docs](https://numpy.org/doc/1.26/reference/generated/numpy.repeat.html)  \n",
    "```python\n",
    "np.repeat(a, repeats, axis=None)\n",
    "```\n",
    "**Important params:**  \n",
    "`a`: element to repeat.  \n",
    "`repeats`: number of times to repeat element.  "
   ]
  },
  {
   "cell_type": "code",
   "execution_count": 66,
   "id": "11721b24-618c-4a56-a07e-fbc9b549bd4a",
   "metadata": {},
   "outputs": [
    {
     "data": {
      "text/plain": [
       "array(['2023', '2023', '2023', '2023'], dtype='<U4')"
      ]
     },
     "execution_count": 66,
     "metadata": {},
     "output_type": "execute_result"
    }
   ],
   "source": [
    "np.repeat(\"2023\", 4)"
   ]
  },
  {
   "cell_type": "code",
   "execution_count": 67,
   "id": "3b5b28e0-6834-416d-b670-27786e0fc2f8",
   "metadata": {},
   "outputs": [
    {
     "data": {
      "text/plain": [
       "array([[ 0,  8,  9, 16],\n",
       "       [16,  2, 17,  0],\n",
       "       [ 7, 17,  1, 13]])"
      ]
     },
     "execution_count": 67,
     "metadata": {},
     "output_type": "execute_result"
    }
   ],
   "source": [
    "arr = np.random.randint(0, 20, size=(3, 4))\n",
    "arr"
   ]
  },
  {
   "cell_type": "code",
   "execution_count": 68,
   "id": "8a833745-c45b-4a80-920e-b1842509e9cf",
   "metadata": {},
   "outputs": [
    {
     "data": {
      "text/plain": [
       "array([[   0,    8,    9,   16, 2020],\n",
       "       [  16,    2,   17,    0, 2020],\n",
       "       [   7,   17,    1,   13, 2020]])"
      ]
     },
     "execution_count": 68,
     "metadata": {},
     "output_type": "execute_result"
    }
   ],
   "source": [
    "year = np.repeat(2020, 3)\n",
    "year = np.expand_dims(year, axis=1)\n",
    "arr = np.hstack((arr, year))\n",
    "arr"
   ]
  },
  {
   "cell_type": "markdown",
   "id": "a009ed7b-e57c-4a55-ac1d-991a403666e7",
   "metadata": {},
   "source": [
    "#### 41. Tile  <a id=41></a>\n",
    "Construct an array by repeating A the number of times given by reps. [Official docs](https://numpy.org/doc/1.26/reference/generated/numpy.tile.html)  \n",
    "```python\n",
    "np.tile(A, reps)\n",
    "```"
   ]
  },
  {
   "cell_type": "code",
   "execution_count": 69,
   "id": "14907bfa-9b57-48c3-9977-adf924f3bbc9",
   "metadata": {},
   "outputs": [
    {
     "data": {
      "text/plain": [
       "array(['Ram', 'Ram', 'Ram', 'Ram', 'Ram'], dtype='<U3')"
      ]
     },
     "execution_count": 69,
     "metadata": {},
     "output_type": "execute_result"
    }
   ],
   "source": [
    "np.tile(\"Ram\", 5)"
   ]
  },
  {
   "cell_type": "code",
   "execution_count": 90,
   "id": "85008b0b-31fc-468f-80a7-fd5348e35257",
   "metadata": {},
   "outputs": [
    {
     "data": {
      "text/plain": [
       "array([[3, 3, 3],\n",
       "       [3, 3, 3]])"
      ]
     },
     "execution_count": 90,
     "metadata": {},
     "output_type": "execute_result"
    }
   ],
   "source": [
    "np.tile(3, (2, 3))"
   ]
  },
  {
   "cell_type": "markdown",
   "id": "af3ac1b4-0571-4480-aa48-be2b14cde901",
   "metadata": {},
   "source": [
    "---\n",
    "\n",
    "### Einstein Summation Conventions\n"
   ]
  },
  {
   "cell_type": "markdown",
   "id": "026668bf-cfd9-4a60-afb8-3cce9baecb09",
   "metadata": {},
   "source": [
    "#### 42. Einsum  <a id=42></a>\n",
    "This function is used to compute many multi-dimensional and linear algebraic operations on arrays. [Official docs](https://numpy.org/doc/1.26/reference/generated/numpy.einsum.html)  \n",
    "```python\n",
    "np.einsum(subscripts, *operands, out=None, dtype=None, order='K', casting='safe', optimize=False)\r\n",
    "```\r\n"
   ]
  },
  {
   "cell_type": "code",
   "execution_count": 71,
   "id": "78fdc4c0-dcd2-4427-8c25-2cb63febfd5f",
   "metadata": {},
   "outputs": [
    {
     "data": {
      "text/plain": [
       "(array([[1, 2, 3],\n",
       "        [4, 5, 6],\n",
       "        [7, 8, 9]]),\n",
       " array([[21, 22, 23],\n",
       "        [24, 25, 26],\n",
       "        [27, 28, 29]]))"
      ]
     },
     "execution_count": 71,
     "metadata": {},
     "output_type": "execute_result"
    }
   ],
   "source": [
    "a = np.arange(1, 10).reshape(3, 3)\n",
    "b = np.arange(21, 30).reshape(3, 3)\n",
    "a, b"
   ]
  },
  {
   "cell_type": "code",
   "execution_count": 72,
   "id": "e41ff362-dd77-4c0b-b319-a7eababa0401",
   "metadata": {},
   "outputs": [
    {
     "data": {
      "text/plain": [
       "(array([1, 5, 9]), array([21, 25, 29]))"
      ]
     },
     "execution_count": 72,
     "metadata": {},
     "output_type": "execute_result"
    }
   ],
   "source": [
    "# extract diagonals\n",
    "np.einsum(\"ii->i\", a), np.einsum(\"ii->i\", b)"
   ]
  },
  {
   "cell_type": "code",
   "execution_count": 73,
   "id": "68a6890b-2202-417f-ba98-e2689870f890",
   "metadata": {},
   "outputs": [
    {
     "data": {
      "text/plain": [
       "array([[1, 4, 7],\n",
       "       [2, 5, 8],\n",
       "       [3, 6, 9]])"
      ]
     },
     "execution_count": 73,
     "metadata": {},
     "output_type": "execute_result"
    }
   ],
   "source": [
    "# transpose\n",
    "np.einsum(\"ji\", a)"
   ]
  },
  {
   "cell_type": "code",
   "execution_count": 74,
   "id": "c2729b1a-a6c5-4c84-83af-37f44496091d",
   "metadata": {},
   "outputs": [
    {
     "data": {
      "text/plain": [
       "array([[150, 156, 162],\n",
       "       [366, 381, 396],\n",
       "       [582, 606, 630]])"
      ]
     },
     "execution_count": 74,
     "metadata": {},
     "output_type": "execute_result"
    }
   ],
   "source": [
    "# matrix multipication\n",
    "np.einsum(\"ij,jk\", a, b)"
   ]
  },
  {
   "cell_type": "code",
   "execution_count": 75,
   "id": "1c366f56-31c9-4a68-8bc6-2cfc39ecd2dc",
   "metadata": {},
   "outputs": [
    {
     "data": {
      "text/plain": [
       "15"
      ]
     },
     "execution_count": 75,
     "metadata": {},
     "output_type": "execute_result"
    }
   ],
   "source": [
    "# sum of diagonal\n",
    "np.einsum(\"ii\", a)"
   ]
  },
  {
   "cell_type": "markdown",
   "id": "dab248f1-2ac0-443d-aa67-5ec1bf536f54",
   "metadata": {},
   "source": [
    "---\n",
    "\n",
    "### Statistical Analysis\n"
   ]
  },
  {
   "cell_type": "markdown",
   "id": "a5fda73f-4f9f-4483-9301-0831fc103d6f",
   "metadata": {},
   "source": [
    "#### 43. Histogram  <a id=43></a>\n",
    "It is an important statistical analysis function of NumPy that computes histogram values for a set of data. [Official docs](https://numpy.org/doc/1.26/reference/generated/numpy.histogram.html)  \n",
    "```python\n",
    "numpy.histogram(a, bins=10, range=None, density=None, weights=None)\n",
    "```\r\n"
   ]
  },
  {
   "cell_type": "code",
   "execution_count": 76,
   "id": "7717c623-9b66-4176-9499-f920ab68d5cb",
   "metadata": {},
   "outputs": [
    {
     "data": {
      "text/plain": [
       "(array([2, 0, 1, 0, 1, 0, 1, 0, 2, 1], dtype=int64),\n",
       " array([2. , 2.5, 3. , 3.5, 4. , 4.5, 5. , 5.5, 6. , 6.5, 7. ]))"
      ]
     },
     "execution_count": 76,
     "metadata": {},
     "output_type": "execute_result"
    }
   ],
   "source": [
    "arr = np.array([[3, 4, 5, 2], [6, 7, 2, 6]])\n",
    "np.histogram(arr)"
   ]
  },
  {
   "cell_type": "markdown",
   "id": "72c9f773-c552-4435-b057-e529ebb3aed9",
   "metadata": {},
   "source": [
    "#### 44. Percentile  <a id=44></a>\n",
    "It computes the q-th percentile of the data along a specified axis. [Official docs](https://numpy.org/doc/1.26/reference/generated/numpy.percentile.html)  \n",
    "```python\n",
    "np.percentile(a, q, axis=None, out=None, overwrite_input=False, method='linear', keepdims=False, *, interpolation=None)\n",
    "\n",
    "```\n",
    "\n",
    "**Important params:**  \n",
    "`q`: percentile to compute.  \n",
    "`overwrite_input`: if true, then allow the input array to modify the intermediate calculation to save memory.  "
   ]
  },
  {
   "cell_type": "code",
   "execution_count": 77,
   "id": "221e36b9-bb00-430f-bd04-6a44193ae573",
   "metadata": {},
   "outputs": [
    {
     "data": {
      "text/plain": [
       "5.0"
      ]
     },
     "execution_count": 77,
     "metadata": {},
     "output_type": "execute_result"
    }
   ],
   "source": [
    "a = np.array([[2, 4, 6], [4, 8, 12]])\n",
    "np.percentile(a, 50)"
   ]
  },
  {
   "cell_type": "code",
   "execution_count": 78,
   "id": "bb5d1361-470d-468b-90fa-0f7fd246e01c",
   "metadata": {},
   "outputs": [
    {
     "data": {
      "text/plain": [
       "3.0"
      ]
     },
     "execution_count": 78,
     "metadata": {},
     "output_type": "execute_result"
    }
   ],
   "source": [
    "np.percentile(a, 10)"
   ]
  },
  {
   "cell_type": "markdown",
   "id": "97e3c61f-653a-4b11-ad62-b751487d5288",
   "metadata": {},
   "source": [
    "#### 45. Standard Deviation and Variance  <a id=45></a>\n",
    "`np.std` and `np.var` are two functions of NumPy that calculates standard deviation and variance along an axis. [Official docs (std)](https://numpy.org/doc/1.26/reference/generated/numpy.std.html) & [Official docs (var)](https://numpy.org/doc/1.26/reference/generated/numpy.var.html)\r",
    "```python\n",
    "np.std(a, axis=None, dtype=None, out=None, ddof=0, keepdims=<no value>, *, where=<no value>)\n",
    "```\n",
    "```python\n",
    "np.var(a, axis=None, dtype=None, out=None, ddof=0, keepdims=<no value>, *, where=<no value>)\n",
    "```\n",
    "\r\n"
   ]
  },
  {
   "cell_type": "code",
   "execution_count": 79,
   "id": "37dec8d4-03df-4242-8123-9adf12349d22",
   "metadata": {},
   "outputs": [],
   "source": [
    "a = np.array([[2, 4, 6], [4, 8, 12]])"
   ]
  },
  {
   "cell_type": "code",
   "execution_count": 80,
   "id": "26ceec63-9cbc-46f6-b8c4-572bc1ac988a",
   "metadata": {},
   "outputs": [
    {
     "data": {
      "text/plain": [
       "array([1.63299316, 3.26598632])"
      ]
     },
     "execution_count": 80,
     "metadata": {},
     "output_type": "execute_result"
    }
   ],
   "source": [
    "np.std(a,axis=1)  # row wise"
   ]
  },
  {
   "cell_type": "code",
   "execution_count": 81,
   "id": "765551f7-0ba4-40ba-90eb-42c665794b58",
   "metadata": {},
   "outputs": [
    {
     "data": {
      "text/plain": [
       "array([1., 2., 3.])"
      ]
     },
     "execution_count": 81,
     "metadata": {},
     "output_type": "execute_result"
    }
   ],
   "source": [
    "np.std(a,axis=0)  # column wise"
   ]
  },
  {
   "cell_type": "code",
   "execution_count": 82,
   "id": "1e51a064-e8eb-4ece-850c-3adc085c1ab2",
   "metadata": {},
   "outputs": [
    {
     "data": {
      "text/plain": [
       "array([ 2.66666667, 10.66666667])"
      ]
     },
     "execution_count": 82,
     "metadata": {},
     "output_type": "execute_result"
    }
   ],
   "source": [
    "np.var(a,axis=1)"
   ]
  },
  {
   "cell_type": "code",
   "execution_count": 83,
   "id": "aa864131-36a2-49c0-bf7a-49a9c6a4cbbb",
   "metadata": {},
   "outputs": [
    {
     "data": {
      "text/plain": [
       "array([1., 4., 9.])"
      ]
     },
     "execution_count": 83,
     "metadata": {},
     "output_type": "execute_result"
    }
   ],
   "source": [
    "np.var(a,axis=0)"
   ]
  },
  {
   "cell_type": "markdown",
   "id": "a8465165-8645-4b16-ba58-f4d01495defb",
   "metadata": {},
   "source": [
    "---\n",
    "\n",
    "### Array Printing Options\n"
   ]
  },
  {
   "cell_type": "markdown",
   "id": "4f9af859-43ba-476f-b91a-44495dec5b77",
   "metadata": {},
   "source": [
    "#### 46. Show Floats With Two Decimal Values  <a id=46></a>"
   ]
  },
  {
   "cell_type": "code",
   "execution_count": 84,
   "id": "999e9185-ddfa-4787-9449-06fa3484d25e",
   "metadata": {},
   "outputs": [
    {
     "name": "stdout",
     "output_type": "stream",
     "text": [
      "[12.23 32.35]\n"
     ]
    }
   ],
   "source": [
    "np.set_printoptions(precision=2)\n",
    "a = np.array([12.23456, 32.34535])\n",
    "print(a)"
   ]
  },
  {
   "cell_type": "markdown",
   "id": "bb5715c5-5595-4282-bb5f-bf4d3ebdf9f2",
   "metadata": {},
   "source": [
    "#### 47. Prints Array To Its Max  <a id=47></a>"
   ]
  },
  {
   "cell_type": "code",
   "execution_count": 85,
   "id": "fb29d946-aabd-49fd-9a1a-0c45720df1a8",
   "metadata": {},
   "outputs": [],
   "source": [
    "np.set_printoptions(threshold=np.inf)"
   ]
  },
  {
   "cell_type": "markdown",
   "id": "cf87f3ca-8bd6-46d8-83d1-92d0314d53ea",
   "metadata": {},
   "source": [
    "#### 48. Increase The Number of Elements In a Line  <a id=48></a>\n"
   ]
  },
  {
   "cell_type": "code",
   "execution_count": 86,
   "id": "28da74e4-a470-4cae-a705-6f8489b62db7",
   "metadata": {},
   "outputs": [],
   "source": [
    "np.set_printoptions(linewidth=100)  # default 75"
   ]
  },
  {
   "cell_type": "markdown",
   "id": "192595d8-9186-460a-976c-081fbae266e8",
   "metadata": {},
   "source": [
    "---\n",
    "\n",
    "### Save and Load Array Data\n"
   ]
  },
  {
   "cell_type": "markdown",
   "id": "9a236fe4-5072-42f0-b84c-85c3ce13b086",
   "metadata": {},
   "source": [
    "#### 49. Save  <a id=49></a>\n",
    "`np.savetxt` used to save the content of an array inside a text file. [Official docs](https://numpy.org/doc/1.26/reference/generated/numpy.savetxt.html)  \n",
    "```python\n",
    "np.savetxt(fname, X, fmt='%.18e', delimiter=' ', newline='\\n', header='', footer='', comments='# ', encoding=None)\n",
    "```"
   ]
  },
  {
   "cell_type": "code",
   "execution_count": 87,
   "id": "eb5834fb-8895-4e38-a4e3-ffa4d7a1232b",
   "metadata": {},
   "outputs": [],
   "source": [
    "arr = np.linspace(10, 100, 500).reshape(25, 20) \n",
    "np.savetxt('some_files/array.txt', arr)"
   ]
  },
  {
   "cell_type": "markdown",
   "id": "c54fcff0-dbce-4e84-b631-d266572ad318",
   "metadata": {},
   "source": [
    "#### 50. Load  <a id=50></a>\n",
    "`np.loadtxt` used to load the content of an array from a text file. It takes the file name as a parameter. [Official docs](https://numpy.org/doc/1.26/reference/generated/numpy.loadtxt.html)  \n",
    "```python\n",
    "np.loadtxt(fname, dtype=<class 'float'>, comments='#', delimiter=None, converters=None, skiprows=0, usecols=None, \n",
    "           unpack=False, ndmin=0, encoding='bytes', max_rows=None, *, quotechar=None, like=None)\n",
    "```"
   ]
  },
  {
   "cell_type": "code",
   "execution_count": 88,
   "id": "5ca81c15-a5dd-4990-b82b-90fc6b5d7d11",
   "metadata": {},
   "outputs": [
    {
     "data": {
      "text/plain": [
       "array([[ 10.  ,  10.18,  10.36,  10.54,  10.72,  10.9 ,  11.08,  11.26,  11.44,  11.62,  11.8 ,\n",
       "         11.98,  12.16,  12.34,  12.53,  12.71,  12.89,  13.07,  13.25,  13.43],\n",
       "       [ 13.61,  13.79,  13.97,  14.15,  14.33,  14.51,  14.69,  14.87,  15.05,  15.23,  15.41,\n",
       "         15.59,  15.77,  15.95,  16.13,  16.31,  16.49,  16.67,  16.85,  17.03],\n",
       "       [ 17.21,  17.39,  17.58,  17.76,  17.94,  18.12,  18.3 ,  18.48,  18.66,  18.84,  19.02,\n",
       "         19.2 ,  19.38,  19.56,  19.74,  19.92,  20.1 ,  20.28,  20.46,  20.64],\n",
       "       [ 20.82,  21.  ,  21.18,  21.36,  21.54,  21.72,  21.9 ,  22.08,  22.26,  22.44,  22.63,\n",
       "         22.81,  22.99,  23.17,  23.35,  23.53,  23.71,  23.89,  24.07,  24.25],\n",
       "       [ 24.43,  24.61,  24.79,  24.97,  25.15,  25.33,  25.51,  25.69,  25.87,  26.05,  26.23,\n",
       "         26.41,  26.59,  26.77,  26.95,  27.13,  27.31,  27.49,  27.68,  27.86],\n",
       "       [ 28.04,  28.22,  28.4 ,  28.58,  28.76,  28.94,  29.12,  29.3 ,  29.48,  29.66,  29.84,\n",
       "         30.02,  30.2 ,  30.38,  30.56,  30.74,  30.92,  31.1 ,  31.28,  31.46],\n",
       "       [ 31.64,  31.82,  32.  ,  32.18,  32.36,  32.55,  32.73,  32.91,  33.09,  33.27,  33.45,\n",
       "         33.63,  33.81,  33.99,  34.17,  34.35,  34.53,  34.71,  34.89,  35.07],\n",
       "       [ 35.25,  35.43,  35.61,  35.79,  35.97,  36.15,  36.33,  36.51,  36.69,  36.87,  37.05,\n",
       "         37.23,  37.41,  37.6 ,  37.78,  37.96,  38.14,  38.32,  38.5 ,  38.68],\n",
       "       [ 38.86,  39.04,  39.22,  39.4 ,  39.58,  39.76,  39.94,  40.12,  40.3 ,  40.48,  40.66,\n",
       "         40.84,  41.02,  41.2 ,  41.38,  41.56,  41.74,  41.92,  42.1 ,  42.28],\n",
       "       [ 42.46,  42.65,  42.83,  43.01,  43.19,  43.37,  43.55,  43.73,  43.91,  44.09,  44.27,\n",
       "         44.45,  44.63,  44.81,  44.99,  45.17,  45.35,  45.53,  45.71,  45.89],\n",
       "       [ 46.07,  46.25,  46.43,  46.61,  46.79,  46.97,  47.15,  47.33,  47.52,  47.7 ,  47.88,\n",
       "         48.06,  48.24,  48.42,  48.6 ,  48.78,  48.96,  49.14,  49.32,  49.5 ],\n",
       "       [ 49.68,  49.86,  50.04,  50.22,  50.4 ,  50.58,  50.76,  50.94,  51.12,  51.3 ,  51.48,\n",
       "         51.66,  51.84,  52.02,  52.2 ,  52.38,  52.57,  52.75,  52.93,  53.11],\n",
       "       [ 53.29,  53.47,  53.65,  53.83,  54.01,  54.19,  54.37,  54.55,  54.73,  54.91,  55.09,\n",
       "         55.27,  55.45,  55.63,  55.81,  55.99,  56.17,  56.35,  56.53,  56.71],\n",
       "       [ 56.89,  57.07,  57.25,  57.43,  57.62,  57.8 ,  57.98,  58.16,  58.34,  58.52,  58.7 ,\n",
       "         58.88,  59.06,  59.24,  59.42,  59.6 ,  59.78,  59.96,  60.14,  60.32],\n",
       "       [ 60.5 ,  60.68,  60.86,  61.04,  61.22,  61.4 ,  61.58,  61.76,  61.94,  62.12,  62.3 ,\n",
       "         62.48,  62.67,  62.85,  63.03,  63.21,  63.39,  63.57,  63.75,  63.93],\n",
       "       [ 64.11,  64.29,  64.47,  64.65,  64.83,  65.01,  65.19,  65.37,  65.55,  65.73,  65.91,\n",
       "         66.09,  66.27,  66.45,  66.63,  66.81,  66.99,  67.17,  67.35,  67.54],\n",
       "       [ 67.72,  67.9 ,  68.08,  68.26,  68.44,  68.62,  68.8 ,  68.98,  69.16,  69.34,  69.52,\n",
       "         69.7 ,  69.88,  70.06,  70.24,  70.42,  70.6 ,  70.78,  70.96,  71.14],\n",
       "       [ 71.32,  71.5 ,  71.68,  71.86,  72.04,  72.22,  72.4 ,  72.59,  72.77,  72.95,  73.13,\n",
       "         73.31,  73.49,  73.67,  73.85,  74.03,  74.21,  74.39,  74.57,  74.75],\n",
       "       [ 74.93,  75.11,  75.29,  75.47,  75.65,  75.83,  76.01,  76.19,  76.37,  76.55,  76.73,\n",
       "         76.91,  77.09,  77.27,  77.45,  77.64,  77.82,  78.  ,  78.18,  78.36],\n",
       "       [ 78.54,  78.72,  78.9 ,  79.08,  79.26,  79.44,  79.62,  79.8 ,  79.98,  80.16,  80.34,\n",
       "         80.52,  80.7 ,  80.88,  81.06,  81.24,  81.42,  81.6 ,  81.78,  81.96],\n",
       "       [ 82.14,  82.32,  82.51,  82.69,  82.87,  83.05,  83.23,  83.41,  83.59,  83.77,  83.95,\n",
       "         84.13,  84.31,  84.49,  84.67,  84.85,  85.03,  85.21,  85.39,  85.57],\n",
       "       [ 85.75,  85.93,  86.11,  86.29,  86.47,  86.65,  86.83,  87.01,  87.19,  87.37,  87.56,\n",
       "         87.74,  87.92,  88.1 ,  88.28,  88.46,  88.64,  88.82,  89.  ,  89.18],\n",
       "       [ 89.36,  89.54,  89.72,  89.9 ,  90.08,  90.26,  90.44,  90.62,  90.8 ,  90.98,  91.16,\n",
       "         91.34,  91.52,  91.7 ,  91.88,  92.06,  92.24,  92.42,  92.61,  92.79],\n",
       "       [ 92.97,  93.15,  93.33,  93.51,  93.69,  93.87,  94.05,  94.23,  94.41,  94.59,  94.77,\n",
       "         94.95,  95.13,  95.31,  95.49,  95.67,  95.85,  96.03,  96.21,  96.39],\n",
       "       [ 96.57,  96.75,  96.93,  97.11,  97.29,  97.47,  97.66,  97.84,  98.02,  98.2 ,  98.38,\n",
       "         98.56,  98.74,  98.92,  99.1 ,  99.28,  99.46,  99.64,  99.82, 100.  ]])"
      ]
     },
     "execution_count": 88,
     "metadata": {},
     "output_type": "execute_result"
    }
   ],
   "source": [
    "np.loadtxt('some_files/array.txt')"
   ]
  },
  {
   "cell_type": "code",
   "execution_count": null,
   "id": "3833c934-79a6-4536-b437-efaad39dd8ec",
   "metadata": {},
   "outputs": [],
   "source": []
  }
 ],
 "metadata": {
  "kernelspec": {
   "display_name": "Python 3 (ipykernel)",
   "language": "python",
   "name": "python3"
  },
  "language_info": {
   "codemirror_mode": {
    "name": "ipython",
    "version": 3
   },
   "file_extension": ".py",
   "mimetype": "text/x-python",
   "name": "python",
   "nbconvert_exporter": "python",
   "pygments_lexer": "ipython3",
   "version": "3.11.8"
  }
 },
 "nbformat": 4,
 "nbformat_minor": 5
}
