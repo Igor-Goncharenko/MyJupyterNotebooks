{
 "cells": [
  {
   "cell_type": "markdown",
   "id": "ca6a988e-0990-4dad-9151-f9603988d7a3",
   "metadata": {},
   "source": [
    "# Header 1\n",
    "## Header 2\n",
    "### Header 3\n",
    "#### Header 4\n",
    "##### Header 5\n",
    "###### Header 6"
   ]
  },
  {
   "cell_type": "markdown",
   "id": "de243b24-9ac6-40e8-913e-41b9d3f32a01",
   "metadata": {},
   "source": [
    "Usual text. Example of 'p' tag in html  \n",
    "**Bold text**  \n",
    "*Italics text*  \n",
    "~Crossed text~  \n",
    "~~Another crossed text~~  \n",
    "**Combination of bold and *italic***"
   ]
  },
  {
   "cell_type": "markdown",
   "id": "7e557e02-3885-414c-938a-34a0fa87bcd8",
   "metadata": {},
   "source": [
    "**Some intresting list:**\n",
    "1. Item 1\n",
    "    1. Item 1.1\n",
    "    1. Item 1.2\n",
    "1. Item 2\n",
    "1. Item 3\n",
    "    1. Item 3.1\n",
    "    1. Item 3.2"
   ]
  },
  {
   "cell_type": "markdown",
   "id": "7eb6f9d3-9373-4775-8fe5-ab3214751a0f",
   "metadata": {},
   "source": [
    "**Another list:**  \n",
    "- item1  \n",
    "- item2  \n",
    "- [large code block](#large-code-block)"
   ]
  },
  {
   "cell_type": "markdown",
   "id": "afd91cd0-4cbd-46cb-9757-ba3de80fa56a",
   "metadata": {},
   "source": [
    "[Learn Markdown in 30 minutes!](https://www.youtube.com/watch?v=bTVIMt3XllM)"
   ]
  },
  {
   "cell_type": "markdown",
   "id": "ac65492c-eded-46fc-b898-f1525f8ab908",
   "metadata": {},
   "source": [
    "![Image from local disk](../Pictures/Screenshots/Screenshot_2023-12-28_160115.png)"
   ]
  },
  {
   "cell_type": "markdown",
   "id": "9dd3efcc-f29c-49cd-826b-1e618c6443cd",
   "metadata": {},
   "source": [
    "`highlighted text`  \n",
    "`pip install pandas`  "
   ]
  },
  {
   "cell_type": "markdown",
   "id": "d7480e7c-7dd7-4093-887f-e6247a9b6b59",
   "metadata": {},
   "source": [
    "## Large code block\n",
    "```python\n",
    "# this block of code says hello to world\n",
    "def greeting(name: str) -> None:\n",
    "    print(f\"Hello, {name}!\")\n",
    "\n",
    "if __name__ == \"__main__\":\n",
    "    greeting(\"world\")\n",
    "```"
   ]
  },
  {
   "cell_type": "markdown",
   "id": "22cea899-6ca4-4482-a905-e6cafc687072",
   "metadata": {},
   "source": [
    "Horizontal line  \n",
    "\n",
    "---\n",
    "\n",
    "Text under the horizontal line"
   ]
  },
  {
   "cell_type": "markdown",
   "id": "37c317c6-6bcd-49a1-96b2-6b4b4cb6c0f8",
   "metadata": {},
   "source": [
    "> This is a quote from some famous person\n",
    "> \n",
    "> -- <cite>Famous Person</cite>\n",
    "\n",
    "  \n",
    "> This is a quote from some famous person\n",
    "> > More text\n",
    ">\n",
    "-- *Famous Person*\n"
   ]
  },
  {
   "cell_type": "markdown",
   "id": "185d4bd7-a2a5-4dd8-b302-5acca537db27",
   "metadata": {},
   "source": [
    "### TODO list\n",
    "- [x] Task #1\n",
    "- [ ] Task #2\n",
    "- [ ] Task #3"
   ]
  },
  {
   "cell_type": "markdown",
   "id": "6ff44aa5-55c1-4b48-af5d-09ffc76262e6",
   "metadata": {},
   "source": [
    "### Table example\n",
    "| Column 1 | Column 2 | Column 3 |  \n",
    "| :--------- | :--------- | :--------- |\n",
    "| Item 1.1 | Item 1.2 | Item 1.3 |  \n",
    "| Item 2.1 | Item 2.2 | Item 2.3 |  \n",
    "| Item 3.1 | Item 3.2 | Item 3.3 |  "
   ]
  },
  {
   "cell_type": "markdown",
   "id": "4bcb8a44-6046-4371-b221-f79f8a5c7222",
   "metadata": {},
   "source": [
    "<details>\n",
    "    <summary>Section text</summary>\n",
    "    More info about section.  \n",
    "       \n",
    "    List:  \n",
    "    - item1  \n",
    "    - item2  \n",
    "    - item3  \n",
    "      \n",
    "</details>"
   ]
  },
  {
   "cell_type": "code",
   "execution_count": null,
   "id": "826043be-fd9d-4e56-b6a7-0daeb93da319",
   "metadata": {},
   "outputs": [],
   "source": []
  }
 ],
 "metadata": {
  "kernelspec": {
   "display_name": "Python 3 (ipykernel)",
   "language": "python",
   "name": "python3"
  },
  "language_info": {
   "codemirror_mode": {
    "name": "ipython",
    "version": 3
   },
   "file_extension": ".py",
   "mimetype": "text/x-python",
   "name": "python",
   "nbconvert_exporter": "python",
   "pygments_lexer": "ipython3",
   "version": "3.11.7"
  }
 },
 "nbformat": 4,
 "nbformat_minor": 5
}
